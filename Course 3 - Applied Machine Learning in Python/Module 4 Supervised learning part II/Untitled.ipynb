{
 "cells": [
  {
   "cell_type": "code",
   "execution_count": 9,
   "id": "91962ebe",
   "metadata": {},
   "outputs": [],
   "source": [
    "mesh = \"\"\"G29 W I0 J0 Z-4.866\n",
    "G29 W I1 J0 Z-4.7405\n",
    "G29 W I2 J0 Z-4.7005\n",
    "G29 W I3 J0 Z-4.6385\n",
    "G29 W I4 J0 Z-4.526\n",
    "G29 W I0 J1 Z-4.942\n",
    "G29 W I1 J1 Z-4.793\n",
    "G29 W I2 J1 Z-4.702\n",
    "G29 W I3 J1 Z-4.633\n",
    "G29 W I4 J1 Z-4.532\n",
    "G29 W I0 J2 Z-5.1085\n",
    "G29 W I1 J2 Z-4.9635\n",
    "G29 W I2 J2 Z-4.8825\n",
    "G29 W I3 J2 Z-4.8015\n",
    "G29 W I4 J2 Z-4.698\n",
    "G29 W I0 J3 Z-5.297\n",
    "G29 W I1 J3 Z-5.1445\n",
    "G29 W I2 J3 Z-5.0465\n",
    "G29 W I3 J3 Z-4.9815\n",
    "G29 W I4 J3 Z-4.882\n",
    "G29 W I0 J4 Z-5.373\n",
    "G29 W I1 J4 Z-5.2255\n",
    "G29 W I2 J4 Z-5.1315\n",
    "G29 W I3 J4 Z-5.0725\n",
    "G29 W I4 J4 Z-4.9685\"\"\""
   ]
  },
  {
   "cell_type": "code",
   "execution_count": 12,
   "id": "5f5660de",
   "metadata": {},
   "outputs": [],
   "source": [
    "mesh = mesh.split(\"\\n\")"
   ]
  },
  {
   "cell_type": "code",
   "execution_count": 47,
   "id": "75f93990",
   "metadata": {},
   "outputs": [],
   "source": [
    "new_vals = \"\"\"-1.180, -1.200, -1.200, -1.160, -1.200, -1.160, 1.180, -1.180, -1.140, -1.200, -1.160, -1.180, -1.180, 1.120, -1.180, -1.160, -1.180, -1.180, -1.140, -1.220, -1.180,-1.220, -1.200, -1.140, -1.220\"\"\"\n",
    "new_vals=new_vals.split(\",\")"
   ]
  },
  {
   "cell_type": "code",
   "execution_count": 62,
   "id": "907a79b5",
   "metadata": {},
   "outputs": [
    {
     "name": "stdout",
     "output_type": "stream",
     "text": [
      "G29 W I0 J0 Z-6.04600\n",
      "G29 W I1 J0 Z-5.94050\n",
      "G29 W I2 J0 Z-5.90050\n",
      "G29 W I3 J0 Z-5.79850\n",
      "G29 W I4 J0 Z-5.72600\n",
      "G29 W I0 J1 Z-6.10200\n",
      "G29 W I1 J1 Z-3.61300\n",
      "G29 W I2 J1 Z-5.88200\n",
      "G29 W I3 J1 Z-5.77300\n",
      "G29 W I4 J1 Z-5.73200\n",
      "G29 W I0 J2 Z-6.26850\n",
      "G29 W I1 J2 Z-6.14350\n",
      "G29 W I2 J2 Z-6.06250\n",
      "G29 W I3 J2 Z-3.68150\n",
      "G29 W I4 J2 Z-5.87800\n",
      "G29 W I0 J3 Z-6.45700\n",
      "G29 W I1 J3 Z-6.32450\n",
      "G29 W I2 J3 Z-6.22650\n",
      "G29 W I3 J3 Z-6.12150\n",
      "G29 W I4 J3 Z-6.10200\n",
      "G29 W I0 J4 Z-6.55300\n",
      "G29 W I1 J4 Z-6.44550\n",
      "G29 W I2 J4 Z-6.33150\n",
      "G29 W I3 J4 Z-6.21250\n",
      "G29 W I4 J4 Z-6.18850\n"
     ]
    }
   ],
   "source": [
    "count=0\n",
    "for line, n in zip(mesh, new_vals):\n",
    "    line = line.split(\"Z\")\n",
    "    n = float(n.split(',')[0])\n",
    "    line_init = line[0]\n",
    "    line_int = float(line[1])\n",
    "    new = format(round(line_int + n,5), '.5f')\n",
    "    print(line_init+\"Z\"+ (str(new)))\n",
    "    count+=1\n",
    "    \n",
    "    format(2.0, '.6f')"
   ]
  },
  {
   "cell_type": "code",
   "execution_count": null,
   "id": "c896bbcd",
   "metadata": {},
   "outputs": [],
   "source": []
  }
 ],
 "metadata": {
  "kernelspec": {
   "display_name": "Python 3 (ipykernel)",
   "language": "python",
   "name": "python3"
  },
  "language_info": {
   "codemirror_mode": {
    "name": "ipython",
    "version": 3
   },
   "file_extension": ".py",
   "mimetype": "text/x-python",
   "name": "python",
   "nbconvert_exporter": "python",
   "pygments_lexer": "ipython3",
   "version": "3.9.15"
  }
 },
 "nbformat": 4,
 "nbformat_minor": 5
}
