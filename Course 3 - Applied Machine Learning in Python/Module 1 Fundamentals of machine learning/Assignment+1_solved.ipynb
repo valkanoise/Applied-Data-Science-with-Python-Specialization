{
 "cells": [
  {
   "cell_type": "markdown",
   "metadata": {},
   "source": [
    "---\n",
    "\n",
    "_You are currently looking at **version 1.3** of this notebook. To download notebooks and datafiles, as well as get help on Jupyter notebooks in the Coursera platform, visit the [Jupyter Notebook FAQ](https://www.coursera.org/learn/python-machine-learning/resources/bANLa) course resource._\n",
    "\n",
    "---"
   ]
  },
  {
   "cell_type": "markdown",
   "metadata": {},
   "source": [
    "# Assignment 1 - Introduction to Machine Learning"
   ]
  },
  {
   "cell_type": "markdown",
   "metadata": {},
   "source": [
    "For this assignment, you will be using the Breast Cancer Wisconsin (Diagnostic) Database to create a classifier that can help diagnose patients. First, read through the description of the dataset (below)."
   ]
  },
  {
   "cell_type": "code",
   "execution_count": 2,
   "metadata": {
    "collapsed": true
   },
   "outputs": [],
   "source": [
    "import numpy as np\n",
    "import pandas as pd\n",
    "from sklearn.datasets import load_breast_cancer\n",
    "\n",
    "cancer = load_breast_cancer()\n",
    "\n",
    "#print(cancer.DESCR) # Print the data set description\n",
    "# El data set consta de 569 objetos=filas x 30 features=columnas"
   ]
  },
  {
   "cell_type": "markdown",
   "metadata": {},
   "source": [
    "The object returned by `load_breast_cancer()` is a scikit-learn Bunch object, which is similar to a dictionary."
   ]
  },
  {
   "cell_type": "markdown",
   "metadata": {},
   "source": [
    "### Question 0 (Example)\n",
    "\n",
    "How many features does the breast cancer dataset have?\n",
    "\n",
    "*This function should return an integer.*"
   ]
  },
  {
   "cell_type": "code",
   "execution_count": 3,
   "metadata": {
    "collapsed": false
   },
   "outputs": [
    {
     "data": {
      "text/plain": [
       "30"
      ]
     },
     "execution_count": 3,
     "metadata": {},
     "output_type": "execute_result"
    }
   ],
   "source": [
    "# You should write your whole answer within the function provided. The autograder will call\n",
    "# this function and compare the return value against the correct solution value\n",
    "def answer_zero():\n",
    "    # This function returns the number of features of the breast cancer dataset, which is an integer. \n",
    "    # The assignment question description will tell you the general format the autograder is expecting\n",
    "    return len(cancer['feature_names'])\n",
    "\n",
    "# You can examine what your function returns by calling it in the cell. If you have questions\n",
    "# about the assignment formats, check out the discussion forums for any FAQs\n",
    "answer_zero() "
   ]
  },
  {
   "cell_type": "markdown",
   "metadata": {},
   "source": [
    "### Question 1\n",
    "\n",
    "Scikit-learn works with lists, numpy arrays, scipy-sparse matrices, and pandas DataFrames, so converting the dataset to a DataFrame is not necessary for training this model. Using a DataFrame does however help make many things easier such as munging data, so let's practice creating a classifier with a pandas DataFrame. \n",
    "\n",
    "\n",
    "\n",
    "Convert the sklearn.dataset `cancer` to a DataFrame. \n",
    "\n",
    "*This function should return a `(569, 31)` DataFrame with * \n",
    "\n",
    "*columns = *\n",
    "\n",
    "    ['mean radius', 'mean texture', 'mean perimeter', 'mean area',\n",
    "    'mean smoothness', 'mean compactness', 'mean concavity',\n",
    "    'mean concave points', 'mean symmetry', 'mean fractal dimension',\n",
    "    'radius error', 'texture error', 'perimeter error', 'area error',\n",
    "    'smoothness error', 'compactness error', 'concavity error',\n",
    "    'concave points error', 'symmetry error', 'fractal dimension error',\n",
    "    'worst radius', 'worst texture', 'worst perimeter', 'worst area',\n",
    "    'worst smoothness', 'worst compactness', 'worst concavity',\n",
    "    'worst concave points', 'worst symmetry', 'worst fractal dimension',\n",
    "    'target']\n",
    "\n",
    "*and index = *\n",
    "\n",
    "    RangeIndex(start=0, stop=569, step=1)"
   ]
  },
  {
   "cell_type": "code",
   "execution_count": 5,
   "metadata": {
    "collapsed": false
   },
   "outputs": [
    {
     "data": {
      "text/html": [
       "<div>\n",
       "<style scoped>\n",
       "    .dataframe tbody tr th:only-of-type {\n",
       "        vertical-align: middle;\n",
       "    }\n",
       "\n",
       "    .dataframe tbody tr th {\n",
       "        vertical-align: top;\n",
       "    }\n",
       "\n",
       "    .dataframe thead th {\n",
       "        text-align: right;\n",
       "    }\n",
       "</style>\n",
       "<table border=\"1\" class=\"dataframe\">\n",
       "  <thead>\n",
       "    <tr style=\"text-align: right;\">\n",
       "      <th></th>\n",
       "      <th>mean radius</th>\n",
       "      <th>mean texture</th>\n",
       "      <th>mean perimeter</th>\n",
       "      <th>mean area</th>\n",
       "      <th>mean smoothness</th>\n",
       "      <th>mean compactness</th>\n",
       "      <th>mean concavity</th>\n",
       "      <th>mean concave points</th>\n",
       "      <th>mean symmetry</th>\n",
       "      <th>mean fractal dimension</th>\n",
       "      <th>...</th>\n",
       "      <th>worst texture</th>\n",
       "      <th>worst perimeter</th>\n",
       "      <th>worst area</th>\n",
       "      <th>worst smoothness</th>\n",
       "      <th>worst compactness</th>\n",
       "      <th>worst concavity</th>\n",
       "      <th>worst concave points</th>\n",
       "      <th>worst symmetry</th>\n",
       "      <th>worst fractal dimension</th>\n",
       "      <th>target</th>\n",
       "    </tr>\n",
       "  </thead>\n",
       "  <tbody>\n",
       "    <tr>\n",
       "      <th>0</th>\n",
       "      <td>17.99</td>\n",
       "      <td>10.38</td>\n",
       "      <td>122.80</td>\n",
       "      <td>1001.0</td>\n",
       "      <td>0.11840</td>\n",
       "      <td>0.27760</td>\n",
       "      <td>0.30010</td>\n",
       "      <td>0.14710</td>\n",
       "      <td>0.2419</td>\n",
       "      <td>0.07871</td>\n",
       "      <td>...</td>\n",
       "      <td>17.33</td>\n",
       "      <td>184.60</td>\n",
       "      <td>2019.0</td>\n",
       "      <td>0.16220</td>\n",
       "      <td>0.66560</td>\n",
       "      <td>0.7119</td>\n",
       "      <td>0.2654</td>\n",
       "      <td>0.4601</td>\n",
       "      <td>0.11890</td>\n",
       "      <td>0</td>\n",
       "    </tr>\n",
       "    <tr>\n",
       "      <th>1</th>\n",
       "      <td>20.57</td>\n",
       "      <td>17.77</td>\n",
       "      <td>132.90</td>\n",
       "      <td>1326.0</td>\n",
       "      <td>0.08474</td>\n",
       "      <td>0.07864</td>\n",
       "      <td>0.08690</td>\n",
       "      <td>0.07017</td>\n",
       "      <td>0.1812</td>\n",
       "      <td>0.05667</td>\n",
       "      <td>...</td>\n",
       "      <td>23.41</td>\n",
       "      <td>158.80</td>\n",
       "      <td>1956.0</td>\n",
       "      <td>0.12380</td>\n",
       "      <td>0.18660</td>\n",
       "      <td>0.2416</td>\n",
       "      <td>0.1860</td>\n",
       "      <td>0.2750</td>\n",
       "      <td>0.08902</td>\n",
       "      <td>0</td>\n",
       "    </tr>\n",
       "    <tr>\n",
       "      <th>2</th>\n",
       "      <td>19.69</td>\n",
       "      <td>21.25</td>\n",
       "      <td>130.00</td>\n",
       "      <td>1203.0</td>\n",
       "      <td>0.10960</td>\n",
       "      <td>0.15990</td>\n",
       "      <td>0.19740</td>\n",
       "      <td>0.12790</td>\n",
       "      <td>0.2069</td>\n",
       "      <td>0.05999</td>\n",
       "      <td>...</td>\n",
       "      <td>25.53</td>\n",
       "      <td>152.50</td>\n",
       "      <td>1709.0</td>\n",
       "      <td>0.14440</td>\n",
       "      <td>0.42450</td>\n",
       "      <td>0.4504</td>\n",
       "      <td>0.2430</td>\n",
       "      <td>0.3613</td>\n",
       "      <td>0.08758</td>\n",
       "      <td>0</td>\n",
       "    </tr>\n",
       "    <tr>\n",
       "      <th>3</th>\n",
       "      <td>11.42</td>\n",
       "      <td>20.38</td>\n",
       "      <td>77.58</td>\n",
       "      <td>386.1</td>\n",
       "      <td>0.14250</td>\n",
       "      <td>0.28390</td>\n",
       "      <td>0.24140</td>\n",
       "      <td>0.10520</td>\n",
       "      <td>0.2597</td>\n",
       "      <td>0.09744</td>\n",
       "      <td>...</td>\n",
       "      <td>26.50</td>\n",
       "      <td>98.87</td>\n",
       "      <td>567.7</td>\n",
       "      <td>0.20980</td>\n",
       "      <td>0.86630</td>\n",
       "      <td>0.6869</td>\n",
       "      <td>0.2575</td>\n",
       "      <td>0.6638</td>\n",
       "      <td>0.17300</td>\n",
       "      <td>0</td>\n",
       "    </tr>\n",
       "    <tr>\n",
       "      <th>4</th>\n",
       "      <td>20.29</td>\n",
       "      <td>14.34</td>\n",
       "      <td>135.10</td>\n",
       "      <td>1297.0</td>\n",
       "      <td>0.10030</td>\n",
       "      <td>0.13280</td>\n",
       "      <td>0.19800</td>\n",
       "      <td>0.10430</td>\n",
       "      <td>0.1809</td>\n",
       "      <td>0.05883</td>\n",
       "      <td>...</td>\n",
       "      <td>16.67</td>\n",
       "      <td>152.20</td>\n",
       "      <td>1575.0</td>\n",
       "      <td>0.13740</td>\n",
       "      <td>0.20500</td>\n",
       "      <td>0.4000</td>\n",
       "      <td>0.1625</td>\n",
       "      <td>0.2364</td>\n",
       "      <td>0.07678</td>\n",
       "      <td>0</td>\n",
       "    </tr>\n",
       "    <tr>\n",
       "      <th>...</th>\n",
       "      <td>...</td>\n",
       "      <td>...</td>\n",
       "      <td>...</td>\n",
       "      <td>...</td>\n",
       "      <td>...</td>\n",
       "      <td>...</td>\n",
       "      <td>...</td>\n",
       "      <td>...</td>\n",
       "      <td>...</td>\n",
       "      <td>...</td>\n",
       "      <td>...</td>\n",
       "      <td>...</td>\n",
       "      <td>...</td>\n",
       "      <td>...</td>\n",
       "      <td>...</td>\n",
       "      <td>...</td>\n",
       "      <td>...</td>\n",
       "      <td>...</td>\n",
       "      <td>...</td>\n",
       "      <td>...</td>\n",
       "      <td>...</td>\n",
       "    </tr>\n",
       "    <tr>\n",
       "      <th>564</th>\n",
       "      <td>21.56</td>\n",
       "      <td>22.39</td>\n",
       "      <td>142.00</td>\n",
       "      <td>1479.0</td>\n",
       "      <td>0.11100</td>\n",
       "      <td>0.11590</td>\n",
       "      <td>0.24390</td>\n",
       "      <td>0.13890</td>\n",
       "      <td>0.1726</td>\n",
       "      <td>0.05623</td>\n",
       "      <td>...</td>\n",
       "      <td>26.40</td>\n",
       "      <td>166.10</td>\n",
       "      <td>2027.0</td>\n",
       "      <td>0.14100</td>\n",
       "      <td>0.21130</td>\n",
       "      <td>0.4107</td>\n",
       "      <td>0.2216</td>\n",
       "      <td>0.2060</td>\n",
       "      <td>0.07115</td>\n",
       "      <td>0</td>\n",
       "    </tr>\n",
       "    <tr>\n",
       "      <th>565</th>\n",
       "      <td>20.13</td>\n",
       "      <td>28.25</td>\n",
       "      <td>131.20</td>\n",
       "      <td>1261.0</td>\n",
       "      <td>0.09780</td>\n",
       "      <td>0.10340</td>\n",
       "      <td>0.14400</td>\n",
       "      <td>0.09791</td>\n",
       "      <td>0.1752</td>\n",
       "      <td>0.05533</td>\n",
       "      <td>...</td>\n",
       "      <td>38.25</td>\n",
       "      <td>155.00</td>\n",
       "      <td>1731.0</td>\n",
       "      <td>0.11660</td>\n",
       "      <td>0.19220</td>\n",
       "      <td>0.3215</td>\n",
       "      <td>0.1628</td>\n",
       "      <td>0.2572</td>\n",
       "      <td>0.06637</td>\n",
       "      <td>0</td>\n",
       "    </tr>\n",
       "    <tr>\n",
       "      <th>566</th>\n",
       "      <td>16.60</td>\n",
       "      <td>28.08</td>\n",
       "      <td>108.30</td>\n",
       "      <td>858.1</td>\n",
       "      <td>0.08455</td>\n",
       "      <td>0.10230</td>\n",
       "      <td>0.09251</td>\n",
       "      <td>0.05302</td>\n",
       "      <td>0.1590</td>\n",
       "      <td>0.05648</td>\n",
       "      <td>...</td>\n",
       "      <td>34.12</td>\n",
       "      <td>126.70</td>\n",
       "      <td>1124.0</td>\n",
       "      <td>0.11390</td>\n",
       "      <td>0.30940</td>\n",
       "      <td>0.3403</td>\n",
       "      <td>0.1418</td>\n",
       "      <td>0.2218</td>\n",
       "      <td>0.07820</td>\n",
       "      <td>0</td>\n",
       "    </tr>\n",
       "    <tr>\n",
       "      <th>567</th>\n",
       "      <td>20.60</td>\n",
       "      <td>29.33</td>\n",
       "      <td>140.10</td>\n",
       "      <td>1265.0</td>\n",
       "      <td>0.11780</td>\n",
       "      <td>0.27700</td>\n",
       "      <td>0.35140</td>\n",
       "      <td>0.15200</td>\n",
       "      <td>0.2397</td>\n",
       "      <td>0.07016</td>\n",
       "      <td>...</td>\n",
       "      <td>39.42</td>\n",
       "      <td>184.60</td>\n",
       "      <td>1821.0</td>\n",
       "      <td>0.16500</td>\n",
       "      <td>0.86810</td>\n",
       "      <td>0.9387</td>\n",
       "      <td>0.2650</td>\n",
       "      <td>0.4087</td>\n",
       "      <td>0.12400</td>\n",
       "      <td>0</td>\n",
       "    </tr>\n",
       "    <tr>\n",
       "      <th>568</th>\n",
       "      <td>7.76</td>\n",
       "      <td>24.54</td>\n",
       "      <td>47.92</td>\n",
       "      <td>181.0</td>\n",
       "      <td>0.05263</td>\n",
       "      <td>0.04362</td>\n",
       "      <td>0.00000</td>\n",
       "      <td>0.00000</td>\n",
       "      <td>0.1587</td>\n",
       "      <td>0.05884</td>\n",
       "      <td>...</td>\n",
       "      <td>30.37</td>\n",
       "      <td>59.16</td>\n",
       "      <td>268.6</td>\n",
       "      <td>0.08996</td>\n",
       "      <td>0.06444</td>\n",
       "      <td>0.0000</td>\n",
       "      <td>0.0000</td>\n",
       "      <td>0.2871</td>\n",
       "      <td>0.07039</td>\n",
       "      <td>1</td>\n",
       "    </tr>\n",
       "  </tbody>\n",
       "</table>\n",
       "<p>569 rows × 31 columns</p>\n",
       "</div>"
      ],
      "text/plain": [
       "     mean radius  mean texture  mean perimeter  mean area  mean smoothness  \\\n",
       "0          17.99         10.38          122.80     1001.0          0.11840   \n",
       "1          20.57         17.77          132.90     1326.0          0.08474   \n",
       "2          19.69         21.25          130.00     1203.0          0.10960   \n",
       "3          11.42         20.38           77.58      386.1          0.14250   \n",
       "4          20.29         14.34          135.10     1297.0          0.10030   \n",
       "..           ...           ...             ...        ...              ...   \n",
       "564        21.56         22.39          142.00     1479.0          0.11100   \n",
       "565        20.13         28.25          131.20     1261.0          0.09780   \n",
       "566        16.60         28.08          108.30      858.1          0.08455   \n",
       "567        20.60         29.33          140.10     1265.0          0.11780   \n",
       "568         7.76         24.54           47.92      181.0          0.05263   \n",
       "\n",
       "     mean compactness  mean concavity  mean concave points  mean symmetry  \\\n",
       "0             0.27760         0.30010              0.14710         0.2419   \n",
       "1             0.07864         0.08690              0.07017         0.1812   \n",
       "2             0.15990         0.19740              0.12790         0.2069   \n",
       "3             0.28390         0.24140              0.10520         0.2597   \n",
       "4             0.13280         0.19800              0.10430         0.1809   \n",
       "..                ...             ...                  ...            ...   \n",
       "564           0.11590         0.24390              0.13890         0.1726   \n",
       "565           0.10340         0.14400              0.09791         0.1752   \n",
       "566           0.10230         0.09251              0.05302         0.1590   \n",
       "567           0.27700         0.35140              0.15200         0.2397   \n",
       "568           0.04362         0.00000              0.00000         0.1587   \n",
       "\n",
       "     mean fractal dimension  ...  worst texture  worst perimeter  worst area  \\\n",
       "0                   0.07871  ...          17.33           184.60      2019.0   \n",
       "1                   0.05667  ...          23.41           158.80      1956.0   \n",
       "2                   0.05999  ...          25.53           152.50      1709.0   \n",
       "3                   0.09744  ...          26.50            98.87       567.7   \n",
       "4                   0.05883  ...          16.67           152.20      1575.0   \n",
       "..                      ...  ...            ...              ...         ...   \n",
       "564                 0.05623  ...          26.40           166.10      2027.0   \n",
       "565                 0.05533  ...          38.25           155.00      1731.0   \n",
       "566                 0.05648  ...          34.12           126.70      1124.0   \n",
       "567                 0.07016  ...          39.42           184.60      1821.0   \n",
       "568                 0.05884  ...          30.37            59.16       268.6   \n",
       "\n",
       "     worst smoothness  worst compactness  worst concavity  \\\n",
       "0             0.16220            0.66560           0.7119   \n",
       "1             0.12380            0.18660           0.2416   \n",
       "2             0.14440            0.42450           0.4504   \n",
       "3             0.20980            0.86630           0.6869   \n",
       "4             0.13740            0.20500           0.4000   \n",
       "..                ...                ...              ...   \n",
       "564           0.14100            0.21130           0.4107   \n",
       "565           0.11660            0.19220           0.3215   \n",
       "566           0.11390            0.30940           0.3403   \n",
       "567           0.16500            0.86810           0.9387   \n",
       "568           0.08996            0.06444           0.0000   \n",
       "\n",
       "     worst concave points  worst symmetry  worst fractal dimension  target  \n",
       "0                  0.2654          0.4601                  0.11890       0  \n",
       "1                  0.1860          0.2750                  0.08902       0  \n",
       "2                  0.2430          0.3613                  0.08758       0  \n",
       "3                  0.2575          0.6638                  0.17300       0  \n",
       "4                  0.1625          0.2364                  0.07678       0  \n",
       "..                    ...             ...                      ...     ...  \n",
       "564                0.2216          0.2060                  0.07115       0  \n",
       "565                0.1628          0.2572                  0.06637       0  \n",
       "566                0.1418          0.2218                  0.07820       0  \n",
       "567                0.2650          0.4087                  0.12400       0  \n",
       "568                0.0000          0.2871                  0.07039       1  \n",
       "\n",
       "[569 rows x 31 columns]"
      ]
     },
     "execution_count": 5,
     "metadata": {},
     "output_type": "execute_result"
    }
   ],
   "source": [
    "def answer_one():\n",
    "    \n",
    "    columnas = ['mean radius', 'mean texture', 'mean perimeter', 'mean area',\n",
    "'mean smoothness', 'mean compactness', 'mean concavity',\n",
    "'mean concave points', 'mean symmetry', 'mean fractal dimension',\n",
    "'radius error', 'texture error', 'perimeter error', 'area error',\n",
    "'smoothness error', 'compactness error', 'concavity error',\n",
    "'concave points error', 'symmetry error', 'fractal dimension error',\n",
    "'worst radius', 'worst texture', 'worst perimeter', 'worst area',\n",
    "'worst smoothness', 'worst compactness', 'worst concavity',\n",
    "'worst concave points', 'worst symmetry', 'worst fractal dimension',\n",
    "'target']\n",
    "\n",
    "    # I create 2 df, one for cancer.data and another for cancer.target\n",
    "    df_data = pd.DataFrame(data=cancer['data'], columns=columnas[:-1])\n",
    "    df_target = pd.DataFrame(data={columnas[-1]:cancer['target']})\n",
    "\n",
    "    # I merge the 2 dfs along the columns two obtain a df(569,31)\n",
    "    df_data_target = pd.concat([df_data, df_target], axis=1)\n",
    "\n",
    "    return df_data_target\n",
    "\n",
    "\n",
    "answer_one()\n"
   ]
  },
  {
   "cell_type": "markdown",
   "metadata": {},
   "source": [
    "### Question 2\n",
    "What is the class distribution? (i.e. how many instances of `malignant` (encoded 0) and how many `benign` (encoded 1)?)\n",
    "\n",
    "*This function should return a Series named `target` of length 2 with integer values and index =* `['malignant', 'benign']`"
   ]
  },
  {
   "cell_type": "code",
   "execution_count": 6,
   "metadata": {
    "collapsed": false
   },
   "outputs": [
    {
     "data": {
      "text/plain": [
       "benign       357\n",
       "malignant    212\n",
       "Name: target, dtype: int64"
      ]
     },
     "execution_count": 6,
     "metadata": {},
     "output_type": "execute_result"
    }
   ],
   "source": [
    "def answer_two():\n",
    "    cancerdf = answer_one()\n",
    "    \n",
    "    # choose the column target(series)\n",
    "    cancerdf = cancerdf['target']\n",
    "    \n",
    "    # map the values of the column target from 0-> malignant and 1->benign\n",
    "    cancerdf = cancerdf.map({0:'malignant',1:'benign'})\n",
    "    \n",
    "    # count values for each type and return it\n",
    "    return cancerdf.value_counts()\n",
    "\n",
    "\n",
    "answer_two()"
   ]
  },
  {
   "cell_type": "markdown",
   "metadata": {},
   "source": [
    "### Question 3\n",
    "Split the DataFrame into `X` (the data) and `y` (the labels).\n",
    "\n",
    "*This function should return a tuple of length 2:* `(X, y)`*, where* \n",
    "* `X`*, a pandas DataFrame, has shape* `(569, 30)`\n",
    "* `y`*, a pandas Series, has shape* `(569,)`."
   ]
  },
  {
   "cell_type": "code",
   "execution_count": 7,
   "metadata": {
    "collapsed": true
   },
   "outputs": [],
   "source": [
    "def answer_three():\n",
    "    cancerdf = answer_one()\n",
    "    # select columns from the whole df to index them later\n",
    "    columnas = cancerdf.columns\n",
    "    \n",
    "    # choose every columns(features) but the last one\n",
    "    X = cancerdf[columnas[:-1]]\n",
    "    # choose the last column(labels)\n",
    "    y = cancerdf[columnas[-1]]\n",
    "    \n",
    "    # Your code here\n",
    "    \n",
    "    return X, y"
   ]
  },
  {
   "cell_type": "markdown",
   "metadata": {},
   "source": [
    "### Question 4\n",
    "Using `train_test_split`, split `X` and `y` into training and test sets `(X_train, X_test, y_train, and y_test)`.\n",
    "\n",
    "**Set the random number generator state to 0 using `random_state=0` to make sure your results match the autograder!**\n",
    "\n",
    "*This function should return a tuple of length 4:* `(X_train, X_test, y_train, y_test)`*, where* \n",
    "* `X_train` *has shape* `(426, 30)`\n",
    "* `X_test` *has shape* `(143, 30)`\n",
    "* `y_train` *has shape* `(426,)`\n",
    "* `y_test` *has shape* `(143,)`"
   ]
  },
  {
   "cell_type": "code",
   "execution_count": 9,
   "metadata": {
    "collapsed": true
   },
   "outputs": [],
   "source": [
    "from sklearn.model_selection import train_test_split\n",
    "\n",
    "def answer_four():\n",
    "    X, y = answer_three()\n",
    "    \n",
    "    # generate train and test sets: define train_size with INT=426 and random_state=0 so to always obtain same dfs\n",
    "    X_train, X_test, y_train, y_test = train_test_split(X, y, random_state=0, train_size=426)\n",
    "    \n",
    "    return X_train, X_test, y_train, y_test"
   ]
  },
  {
   "cell_type": "markdown",
   "metadata": {},
   "source": [
    "### Question 5\n",
    "Using KNeighborsClassifier, fit a k-nearest neighbors (knn) classifier with `X_train`, `y_train` and using one nearest neighbor (`n_neighbors = 1`).\n",
    "\n",
    "*This function should return a * `sklearn.neighbors.classification.KNeighborsClassifier`."
   ]
  },
  {
   "cell_type": "code",
   "execution_count": 11,
   "metadata": {
    "collapsed": true
   },
   "outputs": [],
   "source": [
    "from sklearn.neighbors import KNeighborsClassifier\n",
    "\n",
    "def answer_five():\n",
    "    X_train, X_test, y_train, y_test = answer_four()\n",
    "    \n",
    "    # 1st create classifier with k=1\n",
    "    knn = KNeighborsClassifier(n_neighbors=1)\n",
    "    # 2nd train the Classifier with the train data\n",
    "    knn.fit(X_train, y_train)\n",
    "    \n",
    "        \n",
    "    return knn"
   ]
  },
  {
   "cell_type": "markdown",
   "metadata": {},
   "source": [
    "### Question 6\n",
    "Using your knn classifier, predict the class label using the mean value for each feature.\n",
    "\n",
    "Hint: You can use `cancerdf.mean()[:-1].values.reshape(1, -1)` which gets the mean value for each feature, ignores the target column, and reshapes the data from 1 dimension to 2 (necessary for the precict method of KNeighborsClassifier).\n",
    "\n",
    "*This function should return a numpy array either `array([ 0.])` or `array([ 1.])`*"
   ]
  },
  {
   "cell_type": "code",
   "execution_count": 15,
   "metadata": {
    "collapsed": true
   },
   "outputs": [],
   "source": [
    "def answer_six():\n",
    "    cancerdf = answer_one()\n",
    "    knn = answer_five()\n",
    "    \n",
    "    # calculate the mean for every feature, the last columns is not includes because it includes the labels\n",
    "    means = cancerdf.mean()[:-1]\n",
    "    # extract only the values from the pd.Series and crating an array\n",
    "    means = means.values\n",
    "    # feature´s data must be in a row\n",
    "    # change the shape from 31 row and 1 column (31,), into all data in one row (1,31)\n",
    "    means = means.reshape(1, -1) #(1, -1) == (1,31) the -1 inferres the value 31 from the length of the array and remaining dimensions.\n",
    "    \n",
    "    # Lets imagine that the variable means is a new object that we want to classify/assign a label\n",
    "    # Lets classify this new object and see if it is benign(1) o malign(0)\n",
    "    prediction = knn.predict(means)\n",
    "    \n",
    "    return prediction"
   ]
  },
  {
   "cell_type": "code",
   "execution_count": 17,
   "metadata": {
    "collapsed": true
   },
   "outputs": [],
   "source": [
    "# it seems it is benign"
   ]
  },
  {
   "cell_type": "markdown",
   "metadata": {},
   "source": [
    "### Question 7\n",
    "Using your knn classifier, predict the class labels for the test set `X_test`.\n",
    "\n",
    "*This function should return a numpy array with shape `(143,)` and values either `0.0` or `1.0`.*"
   ]
  },
  {
   "cell_type": "code",
   "execution_count": 18,
   "metadata": {
    "collapsed": true
   },
   "outputs": [],
   "source": [
    "def answer_seven():\n",
    "    X_train, X_test, y_train, y_test = answer_four()\n",
    "    knn = answer_five()\n",
    "    \n",
    "    predictions = knn.predict(X_test)\n",
    "    \n",
    "    return predictions"
   ]
  },
  {
   "cell_type": "markdown",
   "metadata": {},
   "source": [
    "### Question 8\n",
    "Find the score (mean accuracy) of your knn classifier using `X_test` and `y_test`.\n",
    "\n",
    "*This function should return a float between 0 and 1*"
   ]
  },
  {
   "cell_type": "code",
   "execution_count": 20,
   "metadata": {
    "collapsed": true
   },
   "outputs": [],
   "source": [
    "def answer_eight():\n",
    "    X_train, X_test, y_train, y_test = answer_four()\n",
    "    knn = answer_five()\n",
    "    \n",
    "    # Find the score/efficiency of our classifier\n",
    "    score = knn.score(X_test, y_test)\n",
    "    \n",
    "    return score"
   ]
  },
  {
   "cell_type": "markdown",
   "metadata": {},
   "source": [
    "### Optional plot\n",
    "\n",
    "Try using the plotting function below to visualize the differet predicition scores between training and test sets, as well as malignant and benign cells."
   ]
  },
  {
   "cell_type": "code",
   "execution_count": 22,
   "metadata": {
    "collapsed": true
   },
   "outputs": [],
   "source": [
    "def accuracy_plot():\n",
    "    import matplotlib.pyplot as plt\n",
    "\n",
    "    %matplotlib notebook\n",
    "\n",
    "    X_train, X_test, y_train, y_test = answer_four()\n",
    "\n",
    "    # Find the training and testing accuracies by target value (i.e. malignant, benign)\n",
    "    # chooses only the malignant samples\n",
    "    mal_train_X = X_train[y_train==0] \n",
    "    mal_train_y = y_train[y_train==0]\n",
    "    # chooses only the benignants samples\n",
    "    ben_train_X = X_train[y_train==1] \n",
    "    ben_train_y = y_train[y_train==1]\n",
    "\n",
    "    # The same for the test sets\n",
    "    mal_test_X = X_test[y_test==0]\n",
    "    mal_test_y = y_test[y_test==0]\n",
    "    ben_test_X = X_test[y_test==1]\n",
    "    ben_test_y = y_test[y_test==1]\n",
    "\n",
    "    knn = answer_five()\n",
    "\n",
    "    scores = [knn.score(mal_train_X, mal_train_y), knn.score(ben_train_X, ben_train_y), \n",
    "              knn.score(mal_test_X, mal_test_y), knn.score(ben_test_X, ben_test_y)]\n",
    "\n",
    "\n",
    "    plt.figure()\n",
    "\n",
    "    # Plot the scores as a bar chart\n",
    "    bars = plt.bar(np.arange(4), scores, color=['#4c72b0','#4c72b0','#55a868','#55a868'])\n",
    "\n",
    "    # directly label the score onto the bars\n",
    "    for bar in bars:\n",
    "        height = bar.get_height()\n",
    "        plt.gca().text(bar.get_x() + bar.get_width()/2, height*.90, '{0:.{1}f}'.format(height, 2), \n",
    "                     ha='center', color='w', fontsize=11)\n",
    "\n",
    "    # remove all the ticks (both axes), and tick labels on the Y axis\n",
    "    plt.tick_params(top='off', bottom='off', left='off', right='off', labelleft='off', labelbottom='on')\n",
    "\n",
    "    # remove the frame of the chart\n",
    "    for spine in plt.gca().spines.values():\n",
    "        spine.set_visible(False)\n",
    "\n",
    "    plt.xticks([0,1,2,3], ['Malignant\\nTraining', 'Benign\\nTraining', 'Malignant\\nTest', 'Benign\\nTest'], alpha=0.8);\n",
    "    plt.title('Training and Test Accuracies for Malignant and Benign Cells', alpha=0.8)"
   ]
  },
  {
   "cell_type": "markdown",
   "metadata": {},
   "source": [
    "Uncomment the plotting function to see the visualization.\n",
    "\n",
    "**Comment out** the plotting function when submitting your notebook for grading. "
   ]
  },
  {
   "cell_type": "code",
   "execution_count": 23,
   "metadata": {
    "collapsed": false
   },
   "outputs": [
    {
     "data": {
      "application/javascript": "/* Put everything inside the global mpl namespace */\nwindow.mpl = {};\n\n\nmpl.get_websocket_type = function() {\n    if (typeof(WebSocket) !== 'undefined') {\n        return WebSocket;\n    } else if (typeof(MozWebSocket) !== 'undefined') {\n        return MozWebSocket;\n    } else {\n        alert('Your browser does not have WebSocket support.' +\n              'Please try Chrome, Safari or Firefox ≥ 6. ' +\n              'Firefox 4 and 5 are also supported but you ' +\n              'have to enable WebSockets in about:config.');\n    };\n}\n\nmpl.figure = function(figure_id, websocket, ondownload, parent_element) {\n    this.id = figure_id;\n\n    this.ws = websocket;\n\n    this.supports_binary = (this.ws.binaryType != undefined);\n\n    if (!this.supports_binary) {\n        var warnings = document.getElementById(\"mpl-warnings\");\n        if (warnings) {\n            warnings.style.display = 'block';\n            warnings.textContent = (\n                \"This browser does not support binary websocket messages. \" +\n                    \"Performance may be slow.\");\n        }\n    }\n\n    this.imageObj = new Image();\n\n    this.context = undefined;\n    this.message = undefined;\n    this.canvas = undefined;\n    this.rubberband_canvas = undefined;\n    this.rubberband_context = undefined;\n    this.format_dropdown = undefined;\n\n    this.image_mode = 'full';\n\n    this.root = $('<div/>');\n    this._root_extra_style(this.root)\n    this.root.attr('style', 'display: inline-block');\n\n    $(parent_element).append(this.root);\n\n    this._init_header(this);\n    this._init_canvas(this);\n    this._init_toolbar(this);\n\n    var fig = this;\n\n    this.waiting = false;\n\n    this.ws.onopen =  function () {\n            fig.send_message(\"supports_binary\", {value: fig.supports_binary});\n            fig.send_message(\"send_image_mode\", {});\n            if (mpl.ratio != 1) {\n                fig.send_message(\"set_dpi_ratio\", {'dpi_ratio': mpl.ratio});\n            }\n            fig.send_message(\"refresh\", {});\n        }\n\n    this.imageObj.onload = function() {\n            if (fig.image_mode == 'full') {\n                // Full images could contain transparency (where diff images\n                // almost always do), so we need to clear the canvas so that\n                // there is no ghosting.\n                fig.context.clearRect(0, 0, fig.canvas.width, fig.canvas.height);\n            }\n            fig.context.drawImage(fig.imageObj, 0, 0);\n        };\n\n    this.imageObj.onunload = function() {\n        this.ws.close();\n    }\n\n    this.ws.onmessage = this._make_on_message_function(this);\n\n    this.ondownload = ondownload;\n}\n\nmpl.figure.prototype._init_header = function() {\n    var titlebar = $(\n        '<div class=\"ui-dialog-titlebar ui-widget-header ui-corner-all ' +\n        'ui-helper-clearfix\"/>');\n    var titletext = $(\n        '<div class=\"ui-dialog-title\" style=\"width: 100%; ' +\n        'text-align: center; padding: 3px;\"/>');\n    titlebar.append(titletext)\n    this.root.append(titlebar);\n    this.header = titletext[0];\n}\n\n\n\nmpl.figure.prototype._canvas_extra_style = function(canvas_div) {\n\n}\n\n\nmpl.figure.prototype._root_extra_style = function(canvas_div) {\n\n}\n\nmpl.figure.prototype._init_canvas = function() {\n    var fig = this;\n\n    var canvas_div = $('<div/>');\n\n    canvas_div.attr('style', 'position: relative; clear: both; outline: 0');\n\n    function canvas_keyboard_event(event) {\n        return fig.key_event(event, event['data']);\n    }\n\n    canvas_div.keydown('key_press', canvas_keyboard_event);\n    canvas_div.keyup('key_release', canvas_keyboard_event);\n    this.canvas_div = canvas_div\n    this._canvas_extra_style(canvas_div)\n    this.root.append(canvas_div);\n\n    var canvas = $('<canvas/>');\n    canvas.addClass('mpl-canvas');\n    canvas.attr('style', \"left: 0; top: 0; z-index: 0; outline: 0\")\n\n    this.canvas = canvas[0];\n    this.context = canvas[0].getContext(\"2d\");\n\n    var backingStore = this.context.backingStorePixelRatio ||\n\tthis.context.webkitBackingStorePixelRatio ||\n\tthis.context.mozBackingStorePixelRatio ||\n\tthis.context.msBackingStorePixelRatio ||\n\tthis.context.oBackingStorePixelRatio ||\n\tthis.context.backingStorePixelRatio || 1;\n\n    mpl.ratio = (window.devicePixelRatio || 1) / backingStore;\n\n    var rubberband = $('<canvas/>');\n    rubberband.attr('style', \"position: absolute; left: 0; top: 0; z-index: 1;\")\n\n    var pass_mouse_events = true;\n\n    canvas_div.resizable({\n        start: function(event, ui) {\n            pass_mouse_events = false;\n        },\n        resize: function(event, ui) {\n            fig.request_resize(ui.size.width, ui.size.height);\n        },\n        stop: function(event, ui) {\n            pass_mouse_events = true;\n            fig.request_resize(ui.size.width, ui.size.height);\n        },\n    });\n\n    function mouse_event_fn(event) {\n        if (pass_mouse_events)\n            return fig.mouse_event(event, event['data']);\n    }\n\n    rubberband.mousedown('button_press', mouse_event_fn);\n    rubberband.mouseup('button_release', mouse_event_fn);\n    // Throttle sequential mouse events to 1 every 20ms.\n    rubberband.mousemove('motion_notify', mouse_event_fn);\n\n    rubberband.mouseenter('figure_enter', mouse_event_fn);\n    rubberband.mouseleave('figure_leave', mouse_event_fn);\n\n    canvas_div.on(\"wheel\", function (event) {\n        event = event.originalEvent;\n        event['data'] = 'scroll'\n        if (event.deltaY < 0) {\n            event.step = 1;\n        } else {\n            event.step = -1;\n        }\n        mouse_event_fn(event);\n    });\n\n    canvas_div.append(canvas);\n    canvas_div.append(rubberband);\n\n    this.rubberband = rubberband;\n    this.rubberband_canvas = rubberband[0];\n    this.rubberband_context = rubberband[0].getContext(\"2d\");\n    this.rubberband_context.strokeStyle = \"#000000\";\n\n    this._resize_canvas = function(width, height) {\n        // Keep the size of the canvas, canvas container, and rubber band\n        // canvas in synch.\n        canvas_div.css('width', width)\n        canvas_div.css('height', height)\n\n        canvas.attr('width', width * mpl.ratio);\n        canvas.attr('height', height * mpl.ratio);\n        canvas.attr('style', 'width: ' + width + 'px; height: ' + height + 'px;');\n\n        rubberband.attr('width', width);\n        rubberband.attr('height', height);\n    }\n\n    // Set the figure to an initial 600x600px, this will subsequently be updated\n    // upon first draw.\n    this._resize_canvas(600, 600);\n\n    // Disable right mouse context menu.\n    $(this.rubberband_canvas).bind(\"contextmenu\",function(e){\n        return false;\n    });\n\n    function set_focus () {\n        canvas.focus();\n        canvas_div.focus();\n    }\n\n    window.setTimeout(set_focus, 100);\n}\n\nmpl.figure.prototype._init_toolbar = function() {\n    var fig = this;\n\n    var nav_element = $('<div/>')\n    nav_element.attr('style', 'width: 100%');\n    this.root.append(nav_element);\n\n    // Define a callback function for later on.\n    function toolbar_event(event) {\n        return fig.toolbar_button_onclick(event['data']);\n    }\n    function toolbar_mouse_event(event) {\n        return fig.toolbar_button_onmouseover(event['data']);\n    }\n\n    for(var toolbar_ind in mpl.toolbar_items) {\n        var name = mpl.toolbar_items[toolbar_ind][0];\n        var tooltip = mpl.toolbar_items[toolbar_ind][1];\n        var image = mpl.toolbar_items[toolbar_ind][2];\n        var method_name = mpl.toolbar_items[toolbar_ind][3];\n\n        if (!name) {\n            // put a spacer in here.\n            continue;\n        }\n        var button = $('<button/>');\n        button.addClass('ui-button ui-widget ui-state-default ui-corner-all ' +\n                        'ui-button-icon-only');\n        button.attr('role', 'button');\n        button.attr('aria-disabled', 'false');\n        button.click(method_name, toolbar_event);\n        button.mouseover(tooltip, toolbar_mouse_event);\n\n        var icon_img = $('<span/>');\n        icon_img.addClass('ui-button-icon-primary ui-icon');\n        icon_img.addClass(image);\n        icon_img.addClass('ui-corner-all');\n\n        var tooltip_span = $('<span/>');\n        tooltip_span.addClass('ui-button-text');\n        tooltip_span.html(tooltip);\n\n        button.append(icon_img);\n        button.append(tooltip_span);\n\n        nav_element.append(button);\n    }\n\n    var fmt_picker_span = $('<span/>');\n\n    var fmt_picker = $('<select/>');\n    fmt_picker.addClass('mpl-toolbar-option ui-widget ui-widget-content');\n    fmt_picker_span.append(fmt_picker);\n    nav_element.append(fmt_picker_span);\n    this.format_dropdown = fmt_picker[0];\n\n    for (var ind in mpl.extensions) {\n        var fmt = mpl.extensions[ind];\n        var option = $(\n            '<option/>', {selected: fmt === mpl.default_extension}).html(fmt);\n        fmt_picker.append(option)\n    }\n\n    // Add hover states to the ui-buttons\n    $( \".ui-button\" ).hover(\n        function() { $(this).addClass(\"ui-state-hover\");},\n        function() { $(this).removeClass(\"ui-state-hover\");}\n    );\n\n    var status_bar = $('<span class=\"mpl-message\"/>');\n    nav_element.append(status_bar);\n    this.message = status_bar[0];\n}\n\nmpl.figure.prototype.request_resize = function(x_pixels, y_pixels) {\n    // Request matplotlib to resize the figure. Matplotlib will then trigger a resize in the client,\n    // which will in turn request a refresh of the image.\n    this.send_message('resize', {'width': x_pixels, 'height': y_pixels});\n}\n\nmpl.figure.prototype.send_message = function(type, properties) {\n    properties['type'] = type;\n    properties['figure_id'] = this.id;\n    this.ws.send(JSON.stringify(properties));\n}\n\nmpl.figure.prototype.send_draw_message = function() {\n    if (!this.waiting) {\n        this.waiting = true;\n        this.ws.send(JSON.stringify({type: \"draw\", figure_id: this.id}));\n    }\n}\n\n\nmpl.figure.prototype.handle_save = function(fig, msg) {\n    var format_dropdown = fig.format_dropdown;\n    var format = format_dropdown.options[format_dropdown.selectedIndex].value;\n    fig.ondownload(fig, format);\n}\n\n\nmpl.figure.prototype.handle_resize = function(fig, msg) {\n    var size = msg['size'];\n    if (size[0] != fig.canvas.width || size[1] != fig.canvas.height) {\n        fig._resize_canvas(size[0], size[1]);\n        fig.send_message(\"refresh\", {});\n    };\n}\n\nmpl.figure.prototype.handle_rubberband = function(fig, msg) {\n    var x0 = msg['x0'] / mpl.ratio;\n    var y0 = (fig.canvas.height - msg['y0']) / mpl.ratio;\n    var x1 = msg['x1'] / mpl.ratio;\n    var y1 = (fig.canvas.height - msg['y1']) / mpl.ratio;\n    x0 = Math.floor(x0) + 0.5;\n    y0 = Math.floor(y0) + 0.5;\n    x1 = Math.floor(x1) + 0.5;\n    y1 = Math.floor(y1) + 0.5;\n    var min_x = Math.min(x0, x1);\n    var min_y = Math.min(y0, y1);\n    var width = Math.abs(x1 - x0);\n    var height = Math.abs(y1 - y0);\n\n    fig.rubberband_context.clearRect(\n        0, 0, fig.canvas.width, fig.canvas.height);\n\n    fig.rubberband_context.strokeRect(min_x, min_y, width, height);\n}\n\nmpl.figure.prototype.handle_figure_label = function(fig, msg) {\n    // Updates the figure title.\n    fig.header.textContent = msg['label'];\n}\n\nmpl.figure.prototype.handle_cursor = function(fig, msg) {\n    var cursor = msg['cursor'];\n    switch(cursor)\n    {\n    case 0:\n        cursor = 'pointer';\n        break;\n    case 1:\n        cursor = 'default';\n        break;\n    case 2:\n        cursor = 'crosshair';\n        break;\n    case 3:\n        cursor = 'move';\n        break;\n    }\n    fig.rubberband_canvas.style.cursor = cursor;\n}\n\nmpl.figure.prototype.handle_message = function(fig, msg) {\n    fig.message.textContent = msg['message'];\n}\n\nmpl.figure.prototype.handle_draw = function(fig, msg) {\n    // Request the server to send over a new figure.\n    fig.send_draw_message();\n}\n\nmpl.figure.prototype.handle_image_mode = function(fig, msg) {\n    fig.image_mode = msg['mode'];\n}\n\nmpl.figure.prototype.updated_canvas_event = function() {\n    // Called whenever the canvas gets updated.\n    this.send_message(\"ack\", {});\n}\n\n// A function to construct a web socket function for onmessage handling.\n// Called in the figure constructor.\nmpl.figure.prototype._make_on_message_function = function(fig) {\n    return function socket_on_message(evt) {\n        if (evt.data instanceof Blob) {\n            /* FIXME: We get \"Resource interpreted as Image but\n             * transferred with MIME type text/plain:\" errors on\n             * Chrome.  But how to set the MIME type?  It doesn't seem\n             * to be part of the websocket stream */\n            evt.data.type = \"image/png\";\n\n            /* Free the memory for the previous frames */\n            if (fig.imageObj.src) {\n                (window.URL || window.webkitURL).revokeObjectURL(\n                    fig.imageObj.src);\n            }\n\n            fig.imageObj.src = (window.URL || window.webkitURL).createObjectURL(\n                evt.data);\n            fig.updated_canvas_event();\n            fig.waiting = false;\n            return;\n        }\n        else if (typeof evt.data === 'string' && evt.data.slice(0, 21) == \"data:image/png;base64\") {\n            fig.imageObj.src = evt.data;\n            fig.updated_canvas_event();\n            fig.waiting = false;\n            return;\n        }\n\n        var msg = JSON.parse(evt.data);\n        var msg_type = msg['type'];\n\n        // Call the  \"handle_{type}\" callback, which takes\n        // the figure and JSON message as its only arguments.\n        try {\n            var callback = fig[\"handle_\" + msg_type];\n        } catch (e) {\n            console.log(\"No handler for the '\" + msg_type + \"' message type: \", msg);\n            return;\n        }\n\n        if (callback) {\n            try {\n                // console.log(\"Handling '\" + msg_type + \"' message: \", msg);\n                callback(fig, msg);\n            } catch (e) {\n                console.log(\"Exception inside the 'handler_\" + msg_type + \"' callback:\", e, e.stack, msg);\n            }\n        }\n    };\n}\n\n// from http://stackoverflow.com/questions/1114465/getting-mouse-location-in-canvas\nmpl.findpos = function(e) {\n    //this section is from http://www.quirksmode.org/js/events_properties.html\n    var targ;\n    if (!e)\n        e = window.event;\n    if (e.target)\n        targ = e.target;\n    else if (e.srcElement)\n        targ = e.srcElement;\n    if (targ.nodeType == 3) // defeat Safari bug\n        targ = targ.parentNode;\n\n    // jQuery normalizes the pageX and pageY\n    // pageX,Y are the mouse positions relative to the document\n    // offset() returns the position of the element relative to the document\n    var x = e.pageX - $(targ).offset().left;\n    var y = e.pageY - $(targ).offset().top;\n\n    return {\"x\": x, \"y\": y};\n};\n\n/*\n * return a copy of an object with only non-object keys\n * we need this to avoid circular references\n * http://stackoverflow.com/a/24161582/3208463\n */\nfunction simpleKeys (original) {\n  return Object.keys(original).reduce(function (obj, key) {\n    if (typeof original[key] !== 'object')\n        obj[key] = original[key]\n    return obj;\n  }, {});\n}\n\nmpl.figure.prototype.mouse_event = function(event, name) {\n    var canvas_pos = mpl.findpos(event)\n\n    if (name === 'button_press')\n    {\n        this.canvas.focus();\n        this.canvas_div.focus();\n    }\n\n    var x = canvas_pos.x * mpl.ratio;\n    var y = canvas_pos.y * mpl.ratio;\n\n    this.send_message(name, {x: x, y: y, button: event.button,\n                             step: event.step,\n                             guiEvent: simpleKeys(event)});\n\n    /* This prevents the web browser from automatically changing to\n     * the text insertion cursor when the button is pressed.  We want\n     * to control all of the cursor setting manually through the\n     * 'cursor' event from matplotlib */\n    event.preventDefault();\n    return false;\n}\n\nmpl.figure.prototype._key_event_extra = function(event, name) {\n    // Handle any extra behaviour associated with a key event\n}\n\nmpl.figure.prototype.key_event = function(event, name) {\n\n    // Prevent repeat events\n    if (name == 'key_press')\n    {\n        if (event.which === this._key)\n            return;\n        else\n            this._key = event.which;\n    }\n    if (name == 'key_release')\n        this._key = null;\n\n    var value = '';\n    if (event.ctrlKey && event.which != 17)\n        value += \"ctrl+\";\n    if (event.altKey && event.which != 18)\n        value += \"alt+\";\n    if (event.shiftKey && event.which != 16)\n        value += \"shift+\";\n\n    value += 'k';\n    value += event.which.toString();\n\n    this._key_event_extra(event, name);\n\n    this.send_message(name, {key: value,\n                             guiEvent: simpleKeys(event)});\n    return false;\n}\n\nmpl.figure.prototype.toolbar_button_onclick = function(name) {\n    if (name == 'download') {\n        this.handle_save(this, null);\n    } else {\n        this.send_message(\"toolbar_button\", {name: name});\n    }\n};\n\nmpl.figure.prototype.toolbar_button_onmouseover = function(tooltip) {\n    this.message.textContent = tooltip;\n};\nmpl.toolbar_items = [[\"Home\", \"Reset original view\", \"fa fa-home icon-home\", \"home\"], [\"Back\", \"Back to  previous view\", \"fa fa-arrow-left icon-arrow-left\", \"back\"], [\"Forward\", \"Forward to next view\", \"fa fa-arrow-right icon-arrow-right\", \"forward\"], [\"\", \"\", \"\", \"\"], [\"Pan\", \"Pan axes with left mouse, zoom with right\", \"fa fa-arrows icon-move\", \"pan\"], [\"Zoom\", \"Zoom to rectangle\", \"fa fa-square-o icon-check-empty\", \"zoom\"], [\"\", \"\", \"\", \"\"], [\"Download\", \"Download plot\", \"fa fa-floppy-o icon-save\", \"download\"]];\n\nmpl.extensions = [\"eps\", \"jpeg\", \"pdf\", \"png\", \"ps\", \"raw\", \"svg\", \"tif\"];\n\nmpl.default_extension = \"png\";var comm_websocket_adapter = function(comm) {\n    // Create a \"websocket\"-like object which calls the given IPython comm\n    // object with the appropriate methods. Currently this is a non binary\n    // socket, so there is still some room for performance tuning.\n    var ws = {};\n\n    ws.close = function() {\n        comm.close()\n    };\n    ws.send = function(m) {\n        //console.log('sending', m);\n        comm.send(m);\n    };\n    // Register the callback with on_msg.\n    comm.on_msg(function(msg) {\n        //console.log('receiving', msg['content']['data'], msg);\n        // Pass the mpl event to the overriden (by mpl) onmessage function.\n        ws.onmessage(msg['content']['data'])\n    });\n    return ws;\n}\n\nmpl.mpl_figure_comm = function(comm, msg) {\n    // This is the function which gets called when the mpl process\n    // starts-up an IPython Comm through the \"matplotlib\" channel.\n\n    var id = msg.content.data.id;\n    // Get hold of the div created by the display call when the Comm\n    // socket was opened in Python.\n    var element = $(\"#\" + id);\n    var ws_proxy = comm_websocket_adapter(comm)\n\n    function ondownload(figure, format) {\n        window.open(figure.imageObj.src);\n    }\n\n    var fig = new mpl.figure(id, ws_proxy,\n                           ondownload,\n                           element.get(0));\n\n    // Call onopen now - mpl needs it, as it is assuming we've passed it a real\n    // web socket which is closed, not our websocket->open comm proxy.\n    ws_proxy.onopen();\n\n    fig.parent_element = element.get(0);\n    fig.cell_info = mpl.find_output_cell(\"<div id='\" + id + \"'></div>\");\n    if (!fig.cell_info) {\n        console.error(\"Failed to find cell for figure\", id, fig);\n        return;\n    }\n\n    var output_index = fig.cell_info[2]\n    var cell = fig.cell_info[0];\n\n};\n\nmpl.figure.prototype.handle_close = function(fig, msg) {\n    var width = fig.canvas.width/mpl.ratio\n    fig.root.unbind('remove')\n\n    // Update the output cell to use the data from the current canvas.\n    fig.push_to_output();\n    var dataURL = fig.canvas.toDataURL();\n    // Re-enable the keyboard manager in IPython - without this line, in FF,\n    // the notebook keyboard shortcuts fail.\n    IPython.keyboard_manager.enable()\n    $(fig.parent_element).html('<img src=\"' + dataURL + '\" width=\"' + width + '\">');\n    fig.close_ws(fig, msg);\n}\n\nmpl.figure.prototype.close_ws = function(fig, msg){\n    fig.send_message('closing', msg);\n    // fig.ws.close()\n}\n\nmpl.figure.prototype.push_to_output = function(remove_interactive) {\n    // Turn the data on the canvas into data in the output cell.\n    var width = this.canvas.width/mpl.ratio\n    var dataURL = this.canvas.toDataURL();\n    this.cell_info[1]['text/html'] = '<img src=\"' + dataURL + '\" width=\"' + width + '\">';\n}\n\nmpl.figure.prototype.updated_canvas_event = function() {\n    // Tell IPython that the notebook contents must change.\n    IPython.notebook.set_dirty(true);\n    this.send_message(\"ack\", {});\n    var fig = this;\n    // Wait a second, then push the new image to the DOM so\n    // that it is saved nicely (might be nice to debounce this).\n    setTimeout(function () { fig.push_to_output() }, 1000);\n}\n\nmpl.figure.prototype._init_toolbar = function() {\n    var fig = this;\n\n    var nav_element = $('<div/>')\n    nav_element.attr('style', 'width: 100%');\n    this.root.append(nav_element);\n\n    // Define a callback function for later on.\n    function toolbar_event(event) {\n        return fig.toolbar_button_onclick(event['data']);\n    }\n    function toolbar_mouse_event(event) {\n        return fig.toolbar_button_onmouseover(event['data']);\n    }\n\n    for(var toolbar_ind in mpl.toolbar_items){\n        var name = mpl.toolbar_items[toolbar_ind][0];\n        var tooltip = mpl.toolbar_items[toolbar_ind][1];\n        var image = mpl.toolbar_items[toolbar_ind][2];\n        var method_name = mpl.toolbar_items[toolbar_ind][3];\n\n        if (!name) { continue; };\n\n        var button = $('<button class=\"btn btn-default\" href=\"#\" title=\"' + name + '\"><i class=\"fa ' + image + ' fa-lg\"></i></button>');\n        button.click(method_name, toolbar_event);\n        button.mouseover(tooltip, toolbar_mouse_event);\n        nav_element.append(button);\n    }\n\n    // Add the status bar.\n    var status_bar = $('<span class=\"mpl-message\" style=\"text-align:right; float: right;\"/>');\n    nav_element.append(status_bar);\n    this.message = status_bar[0];\n\n    // Add the close button to the window.\n    var buttongrp = $('<div class=\"btn-group inline pull-right\"></div>');\n    var button = $('<button class=\"btn btn-mini btn-primary\" href=\"#\" title=\"Stop Interaction\"><i class=\"fa fa-power-off icon-remove icon-large\"></i></button>');\n    button.click(function (evt) { fig.handle_close(fig, {}); } );\n    button.mouseover('Stop Interaction', toolbar_mouse_event);\n    buttongrp.append(button);\n    var titlebar = this.root.find($('.ui-dialog-titlebar'));\n    titlebar.prepend(buttongrp);\n}\n\nmpl.figure.prototype._root_extra_style = function(el){\n    var fig = this\n    el.on(\"remove\", function(){\n\tfig.close_ws(fig, {});\n    });\n}\n\nmpl.figure.prototype._canvas_extra_style = function(el){\n    // this is important to make the div 'focusable\n    el.attr('tabindex', 0)\n    // reach out to IPython and tell the keyboard manager to turn it's self\n    // off when our div gets focus\n\n    // location in version 3\n    if (IPython.notebook.keyboard_manager) {\n        IPython.notebook.keyboard_manager.register_events(el);\n    }\n    else {\n        // location in version 2\n        IPython.keyboard_manager.register_events(el);\n    }\n\n}\n\nmpl.figure.prototype._key_event_extra = function(event, name) {\n    var manager = IPython.notebook.keyboard_manager;\n    if (!manager)\n        manager = IPython.keyboard_manager;\n\n    // Check for shift+enter\n    if (event.shiftKey && event.which == 13) {\n        this.canvas_div.blur();\n        // select the cell after this one\n        var index = IPython.notebook.find_cell_index(this.cell_info[0]);\n        IPython.notebook.select(index + 1);\n    }\n}\n\nmpl.figure.prototype.handle_save = function(fig, msg) {\n    fig.ondownload(fig, null);\n}\n\n\nmpl.find_output_cell = function(html_output) {\n    // Return the cell and output element which can be found *uniquely* in the notebook.\n    // Note - this is a bit hacky, but it is done because the \"notebook_saving.Notebook\"\n    // IPython event is triggered only after the cells have been serialised, which for\n    // our purposes (turning an active figure into a static one), is too late.\n    var cells = IPython.notebook.get_cells();\n    var ncells = cells.length;\n    for (var i=0; i<ncells; i++) {\n        var cell = cells[i];\n        if (cell.cell_type === 'code'){\n            for (var j=0; j<cell.output_area.outputs.length; j++) {\n                var data = cell.output_area.outputs[j];\n                if (data.data) {\n                    // IPython >= 3 moved mimebundle to data attribute of output\n                    data = data.data;\n                }\n                if (data['text/html'] == html_output) {\n                    return [cell, data, j];\n                }\n            }\n        }\n    }\n}\n\n// Register the function which deals with the matplotlib target/channel.\n// The kernel may be null if the page has been refreshed.\nif (IPython.notebook.kernel != null) {\n    IPython.notebook.kernel.comm_manager.register_target('matplotlib', mpl.mpl_figure_comm);\n}\n",
      "text/plain": [
       "<IPython.core.display.Javascript object>"
      ]
     },
     "metadata": {},
     "output_type": "display_data"
    },
    {
     "data": {
      "text/html": [
       "<img src=\"data:image/png;base64,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\" width=\"640\">"
      ],
      "text/plain": [
       "<IPython.core.display.HTML object>"
      ]
     },
     "metadata": {},
     "output_type": "display_data"
    }
   ],
   "source": [
    "accuracy_plot() "
   ]
  },
  {
   "cell_type": "code",
   "execution_count": null,
   "metadata": {
    "collapsed": true
   },
   "outputs": [],
   "source": [
    "'''The results seem logical. \n",
    "Both training sets (malignant and benign) get scores of 100% percent because the knn classifier\n",
    "was trained with them, so it is capable of labeling each of them perfectly.\n",
    "On the other hand, both test sets have scores around 90% because the knn classifier is not perfec\n",
    "but pretty goog in assigning labels to new and uknown data from malignant/benign tumors\n",
    "'''"
   ]
  }
 ],
 "metadata": {
  "coursera": {
   "course_slug": "python-machine-learning",
   "graded_item_id": "f9SY5",
   "launcher_item_id": "oxndk",
   "part_id": "mh1Vo"
  },
  "kernelspec": {
   "display_name": "Python 3.9.12 ('base')",
   "language": "python",
   "name": "python3"
  },
  "language_info": {
   "codemirror_mode": {
    "name": "ipython",
    "version": 3
   },
   "file_extension": ".py",
   "mimetype": "text/x-python",
   "name": "python",
   "nbconvert_exporter": "python",
   "pygments_lexer": "ipython3",
   "version": "3.9.12"
  },
  "vscode": {
   "interpreter": {
    "hash": "ad2bdc8ecc057115af97d19610ffacc2b4e99fae6737bb82f5d7fb13d2f2c186"
   }
  }
 },
 "nbformat": 4,
 "nbformat_minor": 0
}
