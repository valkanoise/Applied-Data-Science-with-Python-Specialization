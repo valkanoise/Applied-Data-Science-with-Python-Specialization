{
 "cells": [
  {
   "cell_type": "markdown",
   "metadata": {
    "deletable": false,
    "editable": false,
    "nbgrader": {
     "checksum": "48770f8b5f5d3062d3badd51fcafc401",
     "grade": false,
     "grade_id": "cell-a6c4f74309fc2379",
     "locked": true,
     "schema_version": 1,
     "solution": false
    }
   },
   "source": [
    "# Assignment 4\n",
    "## Description\n",
    "In this assignment you must read in a file of metropolitan regions and associated sports teams from [assets/wikipedia_data.html](assets/wikipedia_data.html) and answer some questions about each metropolitan region. Each of these regions may have one or more teams from the \"Big 4\": NFL (football, in [assets/nfl.csv](assets/nfl.csv)), MLB (baseball, in [assets/mlb.csv](assets/mlb.csv)), NBA (basketball, in [assets/nba.csv](assets/nba.csv) or NHL (hockey, in [assets/nhl.csv](assets/nhl.csv)). Please keep in mind that all questions are from the perspective of the metropolitan region, and that this file is the \"source of authority\" for the location of a given sports team. Thus teams which are commonly known by a different area (e.g. \"Oakland Raiders\") need to be mapped into the metropolitan region given (e.g. San Francisco Bay Area). This will require some human data understanding outside of the data you've been given (e.g. you will have to hand-code some names, and might need to google to find out where teams are)!\n",
    "\n",
    "For each sport I would like you to answer the question: **what is the win/loss ratio's correlation with the population of the city it is in?** Win/Loss ratio refers to the number of wins over the number of wins plus the number of losses. Remember that to calculate the correlation with [`pearsonr`](https://docs.scipy.org/doc/scipy/reference/generated/scipy.stats.pearsonr.html), so you are going to send in two ordered lists of values, the populations from the wikipedia_data.html file and the win/loss ratio for a given sport in the same order. Average the win/loss ratios for those cities which have multiple teams of a single sport. Each sport is worth an equal amount in this assignment (20%\\*4=80%) of the grade for this assignment. You should only use data **from year 2018** for your analysis -- this is important!\n",
    "\n",
    "## Notes\n",
    "\n",
    "1. Do not include data about the MLS or CFL in any of the work you are doing, we're only interested in the Big 4 in this assignment.\n",
    "2. I highly suggest that you first tackle the four correlation questions in order, as they are all similar and worth the majority of grades for this assignment. This is by design!\n",
    "3. It's fair game to talk with peers about high level strategy as well as the relationship between metropolitan areas and sports teams. However, do not post code solving aspects of the assignment (including such as dictionaries mapping areas to teams, or regexes which will clean up names).\n",
    "4. There may be more teams than the assert statements test, remember to collapse multiple teams in one city into a single value!"
   ]
  },
  {
   "cell_type": "markdown",
   "metadata": {
    "deletable": false,
    "editable": false,
    "nbgrader": {
     "checksum": "369ff9ecf0ee04640574205cbc697f94",
     "grade": false,
     "grade_id": "cell-712b2b5da63d4505",
     "locked": true,
     "schema_version": 1,
     "solution": false
    }
   },
   "source": [
    "## Question 1\n",
    "For this question, calculate the win/loss ratio's correlation with the population of the city it is in for the **NHL** using **2018** data."
   ]
  },
  {
   "cell_type": "code",
   "execution_count": 6,
   "metadata": {
    "deletable": false,
    "nbgrader": {
     "checksum": "1cac4803b02502929f5b1612d48db2b5",
     "grade": false,
     "grade_id": "cell-69b16e4386e58030",
     "locked": false,
     "schema_version": 1,
     "solution": true
    }
   },
   "outputs": [
    {
     "name": "stdout",
     "output_type": "stream",
     "text": [
      "Coeficiente de correlación = 0.012486162921209907\n"
     ]
    }
   ],
   "source": [
    "def nhl_correlation():\n",
    "    \n",
    "    import pandas as pd\n",
    "    import numpy as np\n",
    "    import scipy.stats as stats\n",
    "    import re\n",
    "    \n",
    "    nhl_df=pd.read_csv(\"assets/nhl.csv\")\n",
    "    cities=pd.read_html(\"assets/wikipedia_data.html\")[1]\n",
    "    cities=cities.iloc[:-1,[0,3,5,6,7,8]]\n",
    "    \n",
    "    # Limpio cities dataframe\n",
    "    cities[\"NHL\"] = cities[\"NHL\"].replace(to_replace=\"\\[.+\\]\", value = \"\", regex = True)\n",
    "    cities[\"NHL\"] = cities[\"NHL\"].apply(lambda x: re.findall('.+ .+|[A-Z][a-z]+', x))\n",
    "    cities1 = cities.iloc[:,[0,1,-1]].copy()\n",
    "    cities1 = cities1.explode(\"NHL\")\n",
    "    \n",
    "    # Limpio nhl_df dataframe\n",
    "    nhl_df = nhl_df[nhl_df[\"year\"] == 2018]\n",
    "    nhl_df[\"team\"] = nhl_df[\"team\"].apply(lambda x: x.replace(\"*\", \"\"))\n",
    "    nhl_teams = [x for x in cities1.NHL if x is not np.nan]\n",
    "    def limpiar(item):\n",
    "        for team in nhl_teams:\n",
    "            if team in item:\n",
    "                item = team\n",
    "        return item\n",
    "    nhl_df[\"team\"] = nhl_df[\"team\"].apply(limpiar)\n",
    "    \n",
    "      # Hago inner merge de los dataframes\n",
    "    merge_df = pd.merge(cities1, nhl_df, how='inner', left_on=\"NHL\", right_on=\"team\")\n",
    "    merge_df['WL_ratio'] = merge_df[\"W\"].astype(\"int\")/(merge_df[\"W\"].astype(\"int\") + merge_df[\"L\"].astype(\"int\"))\n",
    "    merge_df['Population (2016 est.)[8]'] = merge_df['Population (2016 est.)[8]'].astype(int)\n",
    "    group_df = merge_df.groupby('Metropolitan area').agg({'WL_ratio':np.mean, 'Population (2016 est.)[8]': np.mean})\n",
    "    group_df = group_df. rename(columns= {'WL_ratio':'W/L rate', 'Population (2016 est.)[8]':'Population', 'team': 'Nr. of teams'})\n",
    "    \n",
    "    \n",
    "    # Correlación de pearson\n",
    "    population_by_region = group_df['Population']\n",
    "    win_loss_by_region = group_df['W/L rate']\n",
    "    \n",
    "    assert len(population_by_region) == len(win_loss_by_region), \"Q1: Your lists must be the same length\"\n",
    "    assert len(population_by_region) == 28, \"Q1: There should be 28 teams being analysed for NHL\"\n",
    "    \n",
    "    correlacion, p_valor = stats.pearsonr(population_by_region, win_loss_by_region)\n",
    "    \n",
    "    return correlacion\n",
    "\n",
    "\n",
    "print(f'Coeficiente de correlación = {nhl_correlation()}')"
   ]
  },
  {
   "cell_type": "code",
   "execution_count": null,
   "metadata": {
    "deletable": false,
    "editable": false,
    "nbgrader": {
     "checksum": "52a581df513c71153e105b93764cda4b",
     "grade": true,
     "grade_id": "cell-ebe0b2dfe1067e63",
     "locked": true,
     "points": 20,
     "schema_version": 1,
     "solution": false
    }
   },
   "outputs": [],
   "source": []
  },
  {
   "cell_type": "markdown",
   "metadata": {
    "deletable": false,
    "editable": false,
    "nbgrader": {
     "checksum": "988912cae4968d81473f46d783e79c16",
     "grade": false,
     "grade_id": "cell-cb964e690298b71d",
     "locked": true,
     "schema_version": 1,
     "solution": false
    }
   },
   "source": [
    "## Question 2\n",
    "For this question, calculate the win/loss ratio's correlation with the population of the city it is in for the **NBA** using **2018** data."
   ]
  },
  {
   "cell_type": "code",
   "execution_count": 2,
   "metadata": {
    "deletable": false,
    "nbgrader": {
     "checksum": "9394222aafc8ccab0a228098ba0d6010",
     "grade": false,
     "grade_id": "cell-5a5f21279e3d3572",
     "locked": false,
     "schema_version": 1,
     "solution": true
    }
   },
   "outputs": [
    {
     "name": "stdout",
     "output_type": "stream",
     "text": [
      "Coeficiente de correlación = -0.17657160252844617\n"
     ]
    }
   ],
   "source": [
    "def nba_correlation():\n",
    "    import pandas as pd\n",
    "    import numpy as np\n",
    "    import scipy.stats as stats\n",
    "    import re\n",
    "\n",
    "    nba_df=pd.read_csv(\"assets/nba.csv\")\n",
    "    cities=pd.read_html(\"assets/wikipedia_data.html\")[1]\n",
    "    cities=cities.iloc[:-1,[0,3,5,6,7,8]]\n",
    "    \n",
    "    # Limpio cities dataframe\n",
    "    cities[\"NBA\"] = cities[\"NBA\"].apply(lambda x: re.sub(\"\\[.+\\]\", \"\", x))\n",
    "    cities[\"NBA\"] = cities[\"NBA\"].apply(lambda x: re.findall('.+ .+|[A-Z][a-z]+|[\\d]+[a-z]+', x))\n",
    "    cities1 = cities[['Metropolitan area','Population (2016 est.)[8]','NBA']].copy()\n",
    "    cities1 = cities1.explode(\"NBA\")\n",
    "\n",
    "    # Limpio nba dataframe\n",
    "    nba_df = nba_df[nba_df[\"year\"] == 2018]\n",
    "    nba_df[\"team\"] = nba_df[\"team\"].apply(lambda x: re.sub(\"\\(\\d+\\)\", \"\", x))\n",
    "    nba_df[\"team\"] = nba_df[\"team\"].apply(lambda x: x.replace('*', \"\"))\n",
    "    nba_teams = [x for x in cities1.NBA if x is not np.nan]\n",
    "    def limpiar(item):\n",
    "        for team in nba_teams:\n",
    "            if team in item:\n",
    "                item = team\n",
    "        return item\n",
    "    nba_df[\"team\"] = nba_df[\"team\"].apply(limpiar)\n",
    "    \n",
    "    # Hago inner merge de los dataframes\n",
    "    merge_df = pd.merge(cities1, nba_df, how='inner', left_on=\"NBA\", right_on=\"team\")\n",
    "    merge_df['WL_ratio'] = merge_df[\"W\"].astype(\"int\")/(merge_df[\"W\"].astype(\"int\") + merge_df[\"L\"].astype(\"int\"))\n",
    "    merge_df['Population (2016 est.)[8]'] = merge_df['Population (2016 est.)[8]'].astype(int)\n",
    "\n",
    "    # Agrupo por 'Metropolitan Area'\n",
    "    group_df = merge_df.groupby('Metropolitan area').agg({'WL_ratio':np.mean, 'Population (2016 est.)[8]': np.mean, 'team':len})\n",
    "    group_df = group_df. rename(columns= {'WL_ratio':'W/L rate', 'Population (2016 est.)[8]':'Population', 'team': 'Nr. of teams'})\n",
    "\n",
    "    # Correlación de pearson\n",
    "    population_by_region = group_df['Population']\n",
    "    win_loss_by_region = group_df['W/L rate']\n",
    "\n",
    "    assert len(population_by_region) == len(win_loss_by_region), \"Q2: Your lists must be the same length\"\n",
    "    assert len(population_by_region) == 28, \"Q2: There should be 28 teams being analysed for NBA\"\n",
    "\n",
    "    correlacion, p_valor = stats.pearsonr(population_by_region, win_loss_by_region)\n",
    "    \n",
    "    return correlacion\n",
    "    \n",
    "print(f'Coeficiente de correlación = {nba_correlation()}')"
   ]
  },
  {
   "cell_type": "code",
   "execution_count": null,
   "metadata": {
    "deletable": false,
    "editable": false,
    "nbgrader": {
     "checksum": "bbdeb8eb22f525a34c10dc8798324e42",
     "grade": true,
     "grade_id": "cell-e573b2b4a282b470",
     "locked": true,
     "points": 20,
     "schema_version": 1,
     "solution": false
    }
   },
   "outputs": [],
   "source": []
  },
  {
   "cell_type": "markdown",
   "metadata": {
    "deletable": false,
    "editable": false,
    "nbgrader": {
     "checksum": "1a1a5809f675ca033086422007cd73bd",
     "grade": false,
     "grade_id": "cell-96e15e4335df78f4",
     "locked": true,
     "schema_version": 1,
     "solution": false
    }
   },
   "source": [
    "## Question 3\n",
    "For this question, calculate the win/loss ratio's correlation with the population of the city it is in for the **MLB** using **2018** data."
   ]
  },
  {
   "cell_type": "code",
   "execution_count": 4,
   "metadata": {
    "deletable": false,
    "nbgrader": {
     "checksum": "27e8c0da6c9fa0dffc10488314335b6c",
     "grade": false,
     "grade_id": "cell-33b00fc3f3467b0c",
     "locked": false,
     "schema_version": 1,
     "solution": true
    }
   },
   "outputs": [
    {
     "name": "stdout",
     "output_type": "stream",
     "text": [
      "Coeficiente de correlación = 0.15027698302669307\n"
     ]
    }
   ],
   "source": [
    "def mlb_correlation():\n",
    "    \n",
    "    import pandas as pd\n",
    "    import numpy as np\n",
    "    import scipy.stats as stats\n",
    "    import re\n",
    "    \n",
    "    mlb_df=pd.read_csv(\"assets/mlb.csv\")\n",
    "    cities=pd.read_html(\"assets/wikipedia_data.html\")[1]\n",
    "    cities=cities.iloc[:-1,[0,3,5,6,7,8]]\n",
    "   \n",
    "    # Limpio cities dataframe\n",
    "    cities[\"MLB\"] = cities[\"MLB\"].str.replace(\"\\[.+\\]\", \"\", regex = True)\n",
    "    cities[\"MLB\"] = cities[\"MLB\"].apply(lambda x : x.strip())\n",
    "    cities[\"MLB\"] = cities[\"MLB\"].apply(lambda x: re.findall('[A-Z][a-z]+[ ][A-Z][a-z]+|[A-Z][a-z]+|[\\d]+[a-z]+', x))\n",
    "    cities1 = cities[['Metropolitan area','Population (2016 est.)[8]','MLB']].copy()\n",
    "    cities1 = cities1.explode(\"MLB\")\n",
    "\n",
    "    # Limpio mlb_df dataframe\n",
    "    mlb_df = mlb_df[mlb_df[\"year\"] == 2018]\n",
    "    def extraer_equipos(row):\n",
    "        ''' Función que saca la ciudad que antecede al nombre de los equipos'''\n",
    "        equipos = [x.strip() for x in cities1.MLB if type(x) == str]\n",
    "        for equipo in equipos:\n",
    "            if equipo in row['team']:\n",
    "                row['team'] = equipo\n",
    "                return row\n",
    "            else:\n",
    "                pass\n",
    "    mlb_df = mlb_df.apply(extraer_equipos, axis = 'columns')\n",
    "\n",
    "    # Hago inner merge de los dataframes\n",
    "    merge_df = pd.merge(cities1, mlb_df, how='inner', left_on=\"MLB\", right_on=\"team\")\n",
    "    merge_df['WL_ratio'] = merge_df[\"W\"].astype(\"float\")/(merge_df[\"W\"].astype(\"int\") + merge_df[\"L\"].astype(\"int\"))\n",
    "    merge_df['Population (2016 est.)[8]'] = merge_df['Population (2016 est.)[8]'].astype(int)\n",
    "    group_df = merge_df.groupby('Metropolitan area').agg({'WL_ratio':np.mean, 'Population (2016 est.)[8]': np.mean})\n",
    "    group_df.rename(inplace= True, columns = {'WL_ratio':'WL_ratio_mean', 'Population (2016 est.)[8]':'Population'})\n",
    "    \n",
    "    # Correlación de pearson\n",
    "    population_by_region = group_df['Population']\n",
    "    win_loss_by_region = group_df['WL_ratio_mean']\n",
    "\n",
    "    assert len(population_by_region) == len(win_loss_by_region), \"Q3: Your lists must be the same length\"\n",
    "    assert len(population_by_region) == 26, \"Q3: There should be 26 teams being analysed for MLB\"\n",
    "\n",
    "    correlacion, p_valor = stats.pearsonr(population_by_region, win_loss_by_region)\n",
    "    \n",
    "    return correlacion\n",
    "\n",
    "print(f'Coeficiente de correlación = {mlb_correlation()}')\n",
    "    "
   ]
  },
  {
   "cell_type": "code",
   "execution_count": null,
   "metadata": {
    "deletable": false,
    "editable": false,
    "nbgrader": {
     "checksum": "cda33b094ba19ccc37a481e0dd29e0bc",
     "grade": true,
     "grade_id": "cell-764d4476f425c5a2",
     "locked": true,
     "points": 20,
     "schema_version": 1,
     "solution": false
    }
   },
   "outputs": [],
   "source": []
  },
  {
   "cell_type": "markdown",
   "metadata": {
    "deletable": false,
    "editable": false,
    "nbgrader": {
     "checksum": "6977a6da9ed6d8b7a0b7e37bbeda709b",
     "grade": false,
     "grade_id": "cell-793df6c04dfb126e",
     "locked": true,
     "schema_version": 1,
     "solution": false
    }
   },
   "source": [
    "## Question 4\n",
    "For this question, calculate the win/loss ratio's correlation with the population of the city it is in for the **NFL** using **2018** data."
   ]
  },
  {
   "cell_type": "code",
   "execution_count": 5,
   "metadata": {
    "deletable": false,
    "nbgrader": {
     "checksum": "c4914ad1e119278ec2bd567c52640b66",
     "grade": false,
     "grade_id": "cell-8ccebc209aeec8d9",
     "locked": false,
     "schema_version": 1,
     "solution": true
    }
   },
   "outputs": [
    {
     "name": "stdout",
     "output_type": "stream",
     "text": [
      "Coeficiente de correlación = 0.0049\n"
     ]
    }
   ],
   "source": [
    "def nfl_correlation(): \n",
    "    import pandas as pd\n",
    "    import numpy as np\n",
    "    import scipy.stats as stats\n",
    "    import re\n",
    "\n",
    "    nfl_df=pd.read_csv(\"assets/nfl.csv\")\n",
    "    cities=pd.read_html(\"assets/wikipedia_data.html\")[1]\n",
    "    cities=cities.iloc[:-1,[0,3,5,6,7,8]]\n",
    "    \n",
    "    # Limpio cities dataframe\n",
    "    cities[\"NFL\"] = cities[\"NFL\"].str.replace(\"\\[.+\\]|\\—\", \"\", regex = True)\n",
    "    cities[\"NFL\"] = cities[\"NFL\"].apply(lambda x : x.strip())\n",
    "    cities[\"NFL\"] = cities[\"NFL\"].apply(lambda x: re.findall('[A-Z][a-z]+[ ][A-Z][a-z]+|[A-Z][a-z]+|[\\d]+[a-z]+', x))\n",
    "    cities1 = cities[['Metropolitan area','Population (2016 est.)[8]','NFL']].copy()\n",
    "    cities1 = cities1.explode(\"NFL\")\n",
    "\n",
    "    # Limpio nfl_df dataframe\n",
    "    nfl_df = nfl_df[nfl_df[\"year\"] == 2018]\n",
    "    nfl_df[\"team\"] = nfl_df[\"team\"].replace(\"\\W\", \"\", regex=True)\n",
    "    nfl_df[\"team\"] = nfl_df[\"team\"].str.findall('[A-Z][a-z]+|[\\d]+[a-z]+')\n",
    "    nfl_df[\"team\"] = nfl_df[\"team\"].apply(lambda x: ' '.join(x))\n",
    "    def limpiar(item):\n",
    "        ''' Función que saca la ciudad que antecede al nombre de los equipos\n",
    "        Se debe ingresar la columna con las Zonas+Equipos'''\n",
    "        # Create a list of NBA teams\n",
    "        nfl_teams = [x for x in cities1.NFL if x is not np.nan]\n",
    "        for team in nfl_teams:\n",
    "            if team in item:\n",
    "                item = team\n",
    "        return item\n",
    "    nfl_df[\"team\"] = nfl_df[\"team\"].apply(limpiar)\n",
    "\n",
    "    # Hago inner merge de los dataframes\n",
    "    merge_df = pd.merge(cities1, nfl_df, how='inner', left_on=\"NFL\", right_on=\"team\")\n",
    "    merge_df['WL_ratio'] = merge_df[\"W\"].astype(\"float\")/(merge_df[\"W\"].astype(\"int\") + merge_df[\"L\"].astype(\"int\"))\n",
    "    merge_df['Population (2016 est.)[8]'] = merge_df['Population (2016 est.)[8]'].astype(int)\n",
    "    group_df = merge_df.groupby('Metropolitan area').agg({'WL_ratio':np.mean, 'Population (2016 est.)[8]': np.mean})\n",
    "    group_df.rename(inplace= True, columns = {'WL_ratio':'WL_ratio_mean', 'Population (2016 est.)[8]':'Population'})\n",
    "\n",
    "    # Correlación de pearson\n",
    "    population_by_region = group_df['Population']\n",
    "    win_loss_by_region = group_df['WL_ratio_mean']\n",
    "\n",
    "    assert len(population_by_region) == len(win_loss_by_region), \"Q4: Your lists must be the same length\"\n",
    "    assert len(population_by_region) == 29, \"Q4: There should be 29 teams being analysed for NFL\"\n",
    "\n",
    "    correlacion, p_valor = stats.pearsonr(population_by_region, win_loss_by_region)\n",
    "    return correlacion\n",
    "\n",
    "\n",
    "print(f'Coeficiente de correlación = {nfl_correlation():.2}')"
   ]
  },
  {
   "cell_type": "code",
   "execution_count": null,
   "metadata": {
    "deletable": false,
    "editable": false,
    "nbgrader": {
     "checksum": "e9415d6399aa49e3a1a60813afdefa3b",
     "grade": true,
     "grade_id": "cell-de7b148b9554dbda",
     "locked": true,
     "points": 20,
     "schema_version": 1,
     "solution": false
    }
   },
   "outputs": [],
   "source": []
  },
  {
   "cell_type": "markdown",
   "metadata": {
    "deletable": false,
    "editable": false,
    "nbgrader": {
     "checksum": "b02d5cd3273f561e4ae939bb2a41740c",
     "grade": false,
     "grade_id": "cell-97b49d8639e908c4",
     "locked": true,
     "schema_version": 1,
     "solution": false
    }
   },
   "source": [
    "## Question 5\n",
    "In this question I would like you to explore the hypothesis that **given that an area has two sports teams in different sports, those teams will perform the same within their respective sports**. How I would like to see this explored is with a series of paired t-tests (so use [`ttest_rel`](https://docs.scipy.org/doc/scipy/reference/generated/scipy.stats.ttest_rel.html)) between all pairs of sports. Are there any sports where we can reject the null hypothesis? Again, average values where a sport has multiple teams in one region. Remember, you will only be including, for each sport, cities which have teams engaged in that sport, drop others as appropriate. This question is worth 20% of the grade for this assignment."
   ]
  },
  {
   "cell_type": "code",
   "execution_count": 6,
   "metadata": {
    "deletable": false,
    "nbgrader": {
     "checksum": "6d78c961eb66f8d8c81f06d33ae8f393",
     "grade": false,
     "grade_id": "cell-92f25f44b8d1179f",
     "locked": false,
     "schema_version": 1,
     "solution": true
    }
   },
   "outputs": [
    {
     "name": "stdout",
     "output_type": "stream",
     "text": [
      "          NFL       NBA       NHL       MLB\n",
      "NFL       NaN  0.941792  0.030883  0.802069\n",
      "NBA  0.941792       NaN  0.022297  0.950540\n",
      "NHL  0.030883  0.022297       NaN  0.000708\n",
      "MLB  0.802069  0.950540  0.000708       NaN\n"
     ]
    }
   ],
   "source": [
    "import pandas as pd\n",
    "import numpy as np\n",
    "import scipy.stats as stats\n",
    "import re\n",
    "\n",
    "nhl_df=pd.read_csv(\"assets/nhl.csv\")\n",
    "nba_df=pd.read_csv(\"assets/nba.csv\")\n",
    "mlb_df=pd.read_csv(\"assets/mlb.csv\")\n",
    "nfl_df=pd.read_csv(\"assets/nfl.csv\")\n",
    "cities=pd.read_html(\"assets/wikipedia_data.html\")[1]\n",
    "cities=cities.iloc[:-1,[0,3,5,6,7,8]]\n",
    "\n",
    "\n",
    "# Genero 4 funciones que limpian los dataframes y agrupan a los deportes\n",
    "# según sus áreas metropolitanas\n",
    "\n",
    "def NHL_groups_df():\n",
    "    '''Función que limpia las dataframes cities y nhl_df, luego hace un merge\n",
    "    entre ambas y agrupa a los equipos según área metropolitana.\n",
    "    Como resultado devuelve una dataframe que incluye: áreas (grupos como index,\n",
    "    y las columnas W/L rate, Population y Nr. of teams para cada grupo'''\n",
    "    \n",
    "    global nhl_df\n",
    "    global cities\n",
    "    \n",
    "    # Limpio cities['NHL']\n",
    "    # Hago copia para no modificar la df original que es usada por el resto de las\n",
    "    # funciones\n",
    "    \n",
    "    cities1 = cities.copy()\n",
    "    cities1[\"NHL\"] = cities1[\"NHL\"].apply(lambda x: re.sub(\"\\[.+\\]|\\—\", \"\", x))\n",
    "    cities1[\"NHL\"] = cities1[\"NHL\"].apply(lambda x: re.findall('[A-Z][a-z]+', x))\n",
    "    cities1 = cities1.explode(\"NHL\")\n",
    "    \n",
    "    # Limpio nhl_df dataframe\n",
    "    nhl_df = nhl_df[nhl_df[\"year\"] == 2018]\n",
    "    nhl_df[\"team\"] = nhl_df[\"team\"].apply(lambda x: x.replace(\"*\", \"\"))\n",
    "    nhl_df[\"team\"] = nhl_df[\"team\"].apply(lambda x: x.split(\" \")[-1])\n",
    "    \n",
    "    # Hago inner merge de los dataframes\n",
    "    merge_df = pd.merge(cities1, nhl_df, how='inner', left_on=\"NHL\", right_on=\"team\")\n",
    "    merge_df['WL_ratio'] = merge_df[\"W\"].astype(\"float\")/(merge_df[\"W\"].astype(\"int\") + merge_df[\"L\"].astype(\"int\"))\n",
    "    merge_df['Population (2016 est.)[8]'] = merge_df['Population (2016 est.)[8]'].astype(int)\n",
    "    \n",
    "    # Agrupo a los equipos según su ciudad y calculo: WL_ratio, poblacion y nro. equipos \n",
    "    group_df = merge_df.groupby('Metropolitan area').agg({'WL_ratio':np.mean, 'Population (2016 est.)[8]': np.mean, 'team':len})\n",
    "    group_df = group_df. rename(columns= {'WL_ratio':'W/L rate', 'Population (2016 est.)[8]':'Population', 'team': 'Nr. of teams'})\n",
    "    group_df['League'] = 'NHL'\n",
    "    \n",
    "    return group_df\n",
    "\n",
    "\n",
    "def NBA_groups_df():\n",
    "    '''Función que limpia las dataframes cities y nba_df, luego hace un merge\n",
    "    entre ambas y agrupa a los equipos según área metropolitana.\n",
    "    Como resultado devuelve una dataframe que incluye: áreas (grupos como index,\n",
    "    y las columnas W/L rate, Population y Nr. of teams para cada grupo'''\n",
    "    \n",
    "    global nba_df\n",
    "    global cities\n",
    "    \n",
    "    # Limpio cities dataframe\n",
    "    cities1 = cities.copy()\n",
    "    cities1[\"NBA\"] = cities1[\"NBA\"].apply(lambda x: re.sub(\"\\[.+\\]|\\—\", \"\", x))\n",
    "    cities1[\"NBA\"] = cities1[\"NBA\"].apply(lambda x: re.findall('[A-Z][a-z]+|[\\d]+[a-z]+', x))\n",
    "    cities1 = cities1.explode(\"NBA\")\n",
    "    \n",
    "    # Limpio nhl_df dataframe\n",
    "    nba_df = nba_df[nba_df[\"year\"] == 2018]\n",
    "    nba_df[\"team\"] = nba_df[\"team\"].apply(lambda x: re.sub(\"\\(\\d+\\)\", \"\", x))\n",
    "    nba_df[\"team\"] = nba_df[\"team\"].apply(lambda x: x.replace('*', \"\"))\n",
    "    nba_df[\"team\"] = nba_df[\"team\"].apply(lambda x: x.split(\" \")[-1].strip())\n",
    "    \n",
    "    # Hago inner merge de los dataframes\n",
    "    merge_df = pd.merge(cities1, nba_df, how='inner', left_on=\"NBA\", right_on=\"team\")\n",
    "    merge_df['WL_ratio'] = merge_df[\"W\"].astype(\"float\")/(merge_df[\"W\"].astype(\"int\") + merge_df[\"L\"].astype(\"int\"))\n",
    "    merge_df['Population (2016 est.)[8]'] = merge_df['Population (2016 est.)[8]'].astype(int)\n",
    "    \n",
    "    # Agrupo a los equipos según su ciudad y calculo: WL_ratio, poblacion y nro. equipos \n",
    "    group_df = merge_df.groupby('Metropolitan area').agg({'WL_ratio':np.mean, 'Population (2016 est.)[8]': np.mean, 'team':len})\n",
    "    group_df = group_df. rename(columns= {'WL_ratio':'W/L rate', 'Population (2016 est.)[8]':'Population', 'team': 'Nr. of teams'})\n",
    "    group_df['League'] = 'NBA'\n",
    "    \n",
    "    return group_df\n",
    "\n",
    "\n",
    "def MLB_groups_df():\n",
    "    '''Función que limpia las dataframes cities y mlb_df, luego hace un merge\n",
    "    entre ambas y agrupa a los equipos según área metropolitana.\n",
    "    Como resultado devuelve una dataframe que incluye: áreas (grupos como index,\n",
    "    y las columnas W/L rate, Population y Nr. of teams para cada grupo'''\n",
    "    \n",
    "    global mlb_df\n",
    "    global cities\n",
    "        \n",
    "    #Limpio cities dataframe\n",
    "    cities1 = cities.copy()\n",
    "    cities1[\"MLB\"] = cities1[\"MLB\"].str.replace(\"\\[.+\\]|\\—\", \"\", regex = True)\n",
    "    cities1[\"MLB\"] = cities1[\"MLB\"].apply(lambda x : x.strip())\n",
    "    cities1[\"MLB\"] = cities1[\"MLB\"].apply(lambda x: re.findall('[A-Z][a-z]+[ ][A-Z][a-z]+|[A-Z][a-z]+|[\\d]+[a-z]+', x))\n",
    "    cities1 = cities1.explode(\"MLB\")\n",
    "\n",
    "    # Limpio mlb_df dataframe\n",
    "    mlb_df = mlb_df[mlb_df[\"year\"] == 2018]\n",
    "    def extraer_equipos(row):\n",
    "        ''' Función que saca la ciudad que antecede al nombre de los equipos'''\n",
    "        equipos = [x.strip() for x in cities1.MLB if type(x) == str]\n",
    "        for equipo in equipos:\n",
    "            if equipo in row['team']:\n",
    "                row['team'] = equipo\n",
    "                return row\n",
    "            else:\n",
    "                continue\n",
    "\n",
    "    mlb_df = mlb_df.apply(extraer_equipos, axis = 'columns')\n",
    "\n",
    "    # Hago inner merge de los dataframes\n",
    "    merge_df = pd.merge(cities1, mlb_df, how='inner', left_on=\"MLB\", right_on=\"team\")\n",
    "    merge_df['WL_ratio'] = merge_df[\"W\"].astype(\"float\")/(merge_df[\"W\"].astype(\"int\") + merge_df[\"L\"].astype(\"int\"))\n",
    "    merge_df['Population (2016 est.)[8]'] = merge_df['Population (2016 est.)[8]'].astype(int)\n",
    "\n",
    "    # Agrupo a los equipos según su ciudad y calculo: WL_ratio, poblacion y nro. equipos \n",
    "    group_df = merge_df.groupby('Metropolitan area').agg({'WL_ratio':np.mean, 'Population (2016 est.)[8]': np.mean, 'team':len})\n",
    "    group_df = group_df. rename(columns= {'WL_ratio':'W/L rate', 'Population (2016 est.)[8]':'Population', 'team': 'Nr. of teams'})\n",
    "    group_df['League'] = 'MLB'\n",
    "    \n",
    "    return group_df\n",
    "\n",
    "\n",
    "def NFL_groups_df():\n",
    "    '''Función que limpia las dataframes cities y nfl_df, luego hace un merge\n",
    "    entre ambas y agrupa a los equipos según área metropolitana.\n",
    "    Como resultado devuelve una dataframe que incluye: áreas (grupos como index,\n",
    "    y las columnas W/L rate, Population y Nr. of teams para cada grupo'''\n",
    "    \n",
    "    global nfl_df\n",
    "    global cities\n",
    "    \n",
    "    # Limpio cities dataframe\n",
    "    cities1 = cities.copy()\n",
    "    cities1[\"NFL\"] = cities1[\"NFL\"].str.replace(\"\\[.+\\]|\\—\", \"\", regex = True)\n",
    "    cities1[\"NFL\"] = cities1[\"NFL\"].apply(lambda x : x.strip())\n",
    "    cities1[\"NFL\"] = cities1[\"NFL\"].apply(lambda x: re.findall('[A-Z][a-z]+[ ][A-Z][a-z]+|[A-Z][a-z]+|[\\d]+[a-z]+', x))\n",
    "    cities1 = cities1.explode(\"NFL\")\n",
    "\n",
    "    # Limpio mlb_df dataframe\n",
    "    nfl_df = nfl_df[nfl_df[\"year\"] == 2018]\n",
    "    nfl_df[\"team\"] = nfl_df[\"team\"].replace(\"\\W\", \"\", regex=True)\n",
    "    nfl_df[\"team\"] = nfl_df[\"team\"].str.findall('[A-Z][a-z]+$|[\\d]+[a-z]+$')\n",
    "    nfl_df[\"team\"] = nfl_df[\"team\"].apply(lambda x : x[0])\n",
    "\n",
    "    # Hago inner merge de los dataframes\n",
    "    merge_df = pd.merge(cities1, nfl_df, how='inner', left_on=\"NFL\", right_on=\"team\")\n",
    "    merge_df['WL_ratio'] = merge_df[\"W\"].astype(\"float\")/(merge_df[\"W\"].astype(\"int\") + merge_df[\"L\"].astype(\"int\"))\n",
    "    merge_df['Population (2016 est.)[8]'] = merge_df['Population (2016 est.)[8]'].astype(int)\n",
    "\n",
    "    # Agrupo a los equipos según su ciudad y calculo: WL_ratio, poblacion y nro. equipos \n",
    "    group_df = merge_df.groupby('Metropolitan area').agg({'WL_ratio':np.mean, 'Population (2016 est.)[8]': np.mean, 'team':len})\n",
    "    group_df = group_df. rename(columns= {'WL_ratio':'W/L rate', 'Population (2016 est.)[8]':'Population', 'team': 'Nr. of teams'})\n",
    "    group_df['League'] = 'NFL'\n",
    "    return group_df\n",
    "\n",
    "\n",
    "def get_WLrate_Population(deporte):\n",
    "    '''Función que toma el deporte y selecciona la función adecuada para\n",
    "    obtener la dataframe con los datos de WL.\n",
    "    Las posibilidades'''\n",
    "    \n",
    "    if deporte == 'NHL':\n",
    "        nhl = NHL_groups_df()\n",
    "        return nhl\n",
    "    \n",
    "    if deporte == 'NBA':\n",
    "        nba = NBA_groups_df()\n",
    "        return nba\n",
    "    \n",
    "    if deporte == 'MLB':\n",
    "        mlb = MLB_groups_df()\n",
    "        return mlb\n",
    "    \n",
    "    if deporte == 'NFL':\n",
    "        nfl = NFL_groups_df()\n",
    "        return nfl\n",
    "\n",
    "def sports_team_performance():\n",
    "    \n",
    "    \n",
    "    #Crea una matriz de correlación vacía y la llena de valones NaN\n",
    "    sports = ['NFL', 'NBA', 'NHL', 'MLB']\n",
    "    p_values = pd.DataFrame({k:np.nan for k in sports}, index=sports)\n",
    "    \n",
    "    # Iteración que realiza el ttest para cada par de deportes\n",
    "    for i in sports:\n",
    "        for j in sports:\n",
    "            if i!=j: # evitamos realizar comparaciones de un deportse consigo mismo\n",
    "                # Se importan las dataframes con W/L rate y population calculadas en los ejercicios anteriores\n",
    "                Mi=get_WLrate_Population(i)\n",
    "                Mj=get_WLrate_Population(j)\n",
    "                # Se extraen las columnas W/L rate para cada par de deportes\n",
    "                Mi=Mi['W/L rate']\n",
    "                Mj=Mj['W/L rate']\n",
    "                # Une los deportes según áreas metropolitanas, quedan sólo\n",
    "                # aquellas áreas que tienen equipos en ambos deportes\n",
    "                merge=pd.merge(Mi,Mj,how='inner',left_index=True,right_index=True)\n",
    "                # Realiza T-test y agrega el p-valor resultante en su posición \n",
    "                # dentro de la matriz de correlación\n",
    "                p_values.loc[i, j]=stats.ttest_rel(merge['W/L rate_x'],merge['W/L rate_y'])[1]\n",
    "    \n",
    "    assert abs(p_values.loc[\"NBA\", \"NHL\"] - 0.02) <= 1e-2, \"The NBA-NHL p-value should be around 0.02\"\n",
    "    assert abs(p_values.loc[\"MLB\", \"NFL\"] - 0.80) <= 1e-2, \"The MLB-NFL p-value should be around 0.80\"\n",
    "    \n",
    "    return p_values\n",
    "\n",
    "p_values = sports_team_performance()\n",
    "print(p_values)"
   ]
  },
  {
   "cell_type": "code",
   "execution_count": null,
   "metadata": {
    "deletable": false,
    "editable": false,
    "nbgrader": {
     "checksum": "2a596ab421a45cc01168d10e8fbb8f89",
     "grade": true,
     "grade_id": "cell-fb4b9cb5ff4570a6",
     "locked": true,
     "points": 20,
     "schema_version": 1,
     "solution": false
    }
   },
   "outputs": [],
   "source": []
  }
 ],
 "metadata": {
  "coursera": {
   "schema_names": [
    "mooc_adswpy_1_v2_assignment4"
   ]
  },
  "kernelspec": {
   "display_name": "Python 3",
   "language": "python",
   "name": "python3"
  },
  "language_info": {
   "codemirror_mode": {
    "name": "ipython",
    "version": 3
   },
   "file_extension": ".py",
   "mimetype": "text/x-python",
   "name": "python",
   "nbconvert_exporter": "python",
   "pygments_lexer": "ipython3",
   "version": "3.7.3"
  }
 },
 "nbformat": 4,
 "nbformat_minor": 4
}
